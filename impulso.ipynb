{
 "cells": [
  {
   "cell_type": "code",
   "execution_count": 1,
   "metadata": {},
   "outputs": [],
   "source": [
    "import pandas as pd\n",
    "import numpy as np\n",
    "from scipy.stats import mode\n",
    "low_memory=False\n",
    "\n",
    "import matplotlib.pyplot as plt\n",
    "import matplotlib.patches as mpatches\n",
    "%matplotlib inline"
   ]
  },
  {
   "cell_type": "code",
   "execution_count": 2,
   "metadata": {},
   "outputs": [
    {
     "name": "stdout",
     "output_type": "stream",
     "text": [
      "Requirement already satisfied: cufflinks in /usr/local/lib/python3.6/site-packages (0.17.3)\n",
      "Requirement already satisfied: ipython>=5.3.0 in /usr/local/lib/python3.6/site-packages (from cufflinks) (7.16.1)\n",
      "Requirement already satisfied: pandas>=0.19.2 in /usr/local/lib/python3.6/site-packages (from cufflinks) (1.1.1)\n",
      "Requirement already satisfied: six>=1.9.0 in /usr/local/lib/python3.6/site-packages (from cufflinks) (1.15.0)\n",
      "Requirement already satisfied: colorlover>=0.2.1 in /usr/local/lib/python3.6/site-packages (from cufflinks) (0.3.0)\n",
      "Requirement already satisfied: setuptools>=34.4.1 in /usr/local/lib/python3.6/site-packages (from cufflinks) (49.6.0)\n",
      "Requirement already satisfied: numpy>=1.9.2 in /usr/local/lib/python3.6/site-packages (from cufflinks) (1.19.1)\n",
      "Requirement already satisfied: ipywidgets>=7.0.0 in /usr/local/lib/python3.6/site-packages (from cufflinks) (7.5.1)\n",
      "Requirement already satisfied: plotly>=4.1.1 in /usr/local/lib/python3.6/site-packages (from cufflinks) (4.9.0)\n",
      "Requirement already satisfied: jedi>=0.10 in /usr/local/lib/python3.6/site-packages (from ipython>=5.3.0->cufflinks) (0.17.2)\n",
      "Requirement already satisfied: traitlets>=4.2 in /usr/local/lib/python3.6/site-packages (from ipython>=5.3.0->cufflinks) (4.3.3)\n",
      "Requirement already satisfied: backcall in /usr/local/lib/python3.6/site-packages (from ipython>=5.3.0->cufflinks) (0.2.0)\n",
      "Requirement already satisfied: prompt-toolkit!=3.0.0,!=3.0.1,<3.1.0,>=2.0.0 in /usr/local/lib/python3.6/site-packages (from ipython>=5.3.0->cufflinks) (3.0.6)\n",
      "Requirement already satisfied: decorator in /usr/local/lib/python3.6/site-packages (from ipython>=5.3.0->cufflinks) (4.4.2)\n",
      "Requirement already satisfied: pickleshare in /usr/local/lib/python3.6/site-packages (from ipython>=5.3.0->cufflinks) (0.7.5)\n",
      "Requirement already satisfied: pygments in /usr/local/lib/python3.6/site-packages (from ipython>=5.3.0->cufflinks) (2.6.1)\n",
      "Requirement already satisfied: pexpect; sys_platform != \"win32\" in /usr/local/lib/python3.6/site-packages (from ipython>=5.3.0->cufflinks) (4.8.0)\n",
      "Requirement already satisfied: pytz>=2017.2 in /usr/local/lib/python3.6/site-packages (from pandas>=0.19.2->cufflinks) (2020.1)\n",
      "Requirement already satisfied: python-dateutil>=2.7.3 in /usr/local/lib/python3.6/site-packages (from pandas>=0.19.2->cufflinks) (2.8.1)\n",
      "Requirement already satisfied: nbformat>=4.2.0 in /usr/local/lib/python3.6/site-packages (from ipywidgets>=7.0.0->cufflinks) (5.0.7)\n",
      "Requirement already satisfied: widgetsnbextension~=3.5.0 in /usr/local/lib/python3.6/site-packages (from ipywidgets>=7.0.0->cufflinks) (3.5.1)\n",
      "Requirement already satisfied: ipykernel>=4.5.1 in /usr/local/lib/python3.6/site-packages (from ipywidgets>=7.0.0->cufflinks) (5.3.4)\n",
      "Requirement already satisfied: retrying>=1.3.3 in /usr/local/lib/python3.6/site-packages (from plotly>=4.1.1->cufflinks) (1.3.3)\n",
      "Requirement already satisfied: parso<0.8.0,>=0.7.0 in /usr/local/lib/python3.6/site-packages (from jedi>=0.10->ipython>=5.3.0->cufflinks) (0.7.1)\n",
      "Requirement already satisfied: ipython-genutils in /usr/local/lib/python3.6/site-packages (from traitlets>=4.2->ipython>=5.3.0->cufflinks) (0.2.0)\n",
      "Requirement already satisfied: wcwidth in /usr/local/lib/python3.6/site-packages (from prompt-toolkit!=3.0.0,!=3.0.1,<3.1.0,>=2.0.0->ipython>=5.3.0->cufflinks) (0.2.5)\n",
      "Requirement already satisfied: ptyprocess>=0.5 in /usr/local/lib/python3.6/site-packages (from pexpect; sys_platform != \"win32\"->ipython>=5.3.0->cufflinks) (0.6.0)\n",
      "Requirement already satisfied: jsonschema!=2.5.0,>=2.4 in /usr/local/lib/python3.6/site-packages (from nbformat>=4.2.0->ipywidgets>=7.0.0->cufflinks) (3.2.0)\n",
      "Requirement already satisfied: jupyter-core in /usr/local/lib/python3.6/site-packages (from nbformat>=4.2.0->ipywidgets>=7.0.0->cufflinks) (4.6.3)\n",
      "Requirement already satisfied: notebook>=4.4.1 in /usr/local/lib/python3.6/site-packages (from widgetsnbextension~=3.5.0->ipywidgets>=7.0.0->cufflinks) (6.1.3)\n",
      "Requirement already satisfied: tornado>=4.2 in /usr/local/lib/python3.6/site-packages (from ipykernel>=4.5.1->ipywidgets>=7.0.0->cufflinks) (6.0.4)\n",
      "Requirement already satisfied: jupyter-client in /usr/local/lib/python3.6/site-packages (from ipykernel>=4.5.1->ipywidgets>=7.0.0->cufflinks) (6.1.6)\n",
      "Requirement already satisfied: attrs>=17.4.0 in /usr/local/lib/python3.6/site-packages (from jsonschema!=2.5.0,>=2.4->nbformat>=4.2.0->ipywidgets>=7.0.0->cufflinks) (20.1.0)\n",
      "Requirement already satisfied: importlib-metadata; python_version < \"3.8\" in /usr/local/lib/python3.6/site-packages (from jsonschema!=2.5.0,>=2.4->nbformat>=4.2.0->ipywidgets>=7.0.0->cufflinks) (1.7.0)\n",
      "Requirement already satisfied: pyrsistent>=0.14.0 in /usr/local/lib/python3.6/site-packages (from jsonschema!=2.5.0,>=2.4->nbformat>=4.2.0->ipywidgets>=7.0.0->cufflinks) (0.16.0)\n",
      "Requirement already satisfied: nbconvert in /usr/local/lib/python3.6/site-packages (from notebook>=4.4.1->widgetsnbextension~=3.5.0->ipywidgets>=7.0.0->cufflinks) (5.6.1)\n",
      "Requirement already satisfied: prometheus-client in /usr/local/lib/python3.6/site-packages (from notebook>=4.4.1->widgetsnbextension~=3.5.0->ipywidgets>=7.0.0->cufflinks) (0.8.0)\n",
      "Requirement already satisfied: argon2-cffi in /usr/local/lib/python3.6/site-packages (from notebook>=4.4.1->widgetsnbextension~=3.5.0->ipywidgets>=7.0.0->cufflinks) (20.1.0)\n",
      "Requirement already satisfied: jinja2 in /usr/local/lib/python3.6/site-packages (from notebook>=4.4.1->widgetsnbextension~=3.5.0->ipywidgets>=7.0.0->cufflinks) (2.11.2)\n",
      "Requirement already satisfied: Send2Trash in /usr/local/lib/python3.6/site-packages (from notebook>=4.4.1->widgetsnbextension~=3.5.0->ipywidgets>=7.0.0->cufflinks) (1.5.0)\n",
      "Requirement already satisfied: terminado>=0.8.3 in /usr/local/lib/python3.6/site-packages (from notebook>=4.4.1->widgetsnbextension~=3.5.0->ipywidgets>=7.0.0->cufflinks) (0.8.3)\n",
      "Requirement already satisfied: pyzmq>=17 in /usr/local/lib/python3.6/site-packages (from notebook>=4.4.1->widgetsnbextension~=3.5.0->ipywidgets>=7.0.0->cufflinks) (19.0.2)\n",
      "Requirement already satisfied: zipp>=0.5 in /usr/local/lib/python3.6/site-packages (from importlib-metadata; python_version < \"3.8\"->jsonschema!=2.5.0,>=2.4->nbformat>=4.2.0->ipywidgets>=7.0.0->cufflinks) (3.1.0)\n",
      "Requirement already satisfied: bleach in /usr/local/lib/python3.6/site-packages (from nbconvert->notebook>=4.4.1->widgetsnbextension~=3.5.0->ipywidgets>=7.0.0->cufflinks) (3.1.5)\n",
      "Requirement already satisfied: defusedxml in /usr/local/lib/python3.6/site-packages (from nbconvert->notebook>=4.4.1->widgetsnbextension~=3.5.0->ipywidgets>=7.0.0->cufflinks) (0.6.0)\n",
      "Requirement already satisfied: pandocfilters>=1.4.1 in /usr/local/lib/python3.6/site-packages (from nbconvert->notebook>=4.4.1->widgetsnbextension~=3.5.0->ipywidgets>=7.0.0->cufflinks) (1.4.2)\n",
      "Requirement already satisfied: testpath in /usr/local/lib/python3.6/site-packages (from nbconvert->notebook>=4.4.1->widgetsnbextension~=3.5.0->ipywidgets>=7.0.0->cufflinks) (0.4.4)\n",
      "Requirement already satisfied: mistune<2,>=0.8.1 in /usr/local/lib/python3.6/site-packages (from nbconvert->notebook>=4.4.1->widgetsnbextension~=3.5.0->ipywidgets>=7.0.0->cufflinks) (0.8.4)\n",
      "Requirement already satisfied: entrypoints>=0.2.2 in /usr/local/lib/python3.6/site-packages (from nbconvert->notebook>=4.4.1->widgetsnbextension~=3.5.0->ipywidgets>=7.0.0->cufflinks) (0.3)\n",
      "Requirement already satisfied: cffi>=1.0.0 in /usr/local/lib/python3.6/site-packages (from argon2-cffi->notebook>=4.4.1->widgetsnbextension~=3.5.0->ipywidgets>=7.0.0->cufflinks) (1.14.2)\n",
      "Requirement already satisfied: MarkupSafe>=0.23 in /usr/local/lib/python3.6/site-packages (from jinja2->notebook>=4.4.1->widgetsnbextension~=3.5.0->ipywidgets>=7.0.0->cufflinks) (1.1.1)\n",
      "Requirement already satisfied: webencodings in /usr/local/lib/python3.6/site-packages (from bleach->nbconvert->notebook>=4.4.1->widgetsnbextension~=3.5.0->ipywidgets>=7.0.0->cufflinks) (0.5.1)\n",
      "Requirement already satisfied: packaging in /usr/local/lib/python3.6/site-packages (from bleach->nbconvert->notebook>=4.4.1->widgetsnbextension~=3.5.0->ipywidgets>=7.0.0->cufflinks) (20.4)\n",
      "Requirement already satisfied: pycparser in /usr/local/lib/python3.6/site-packages (from cffi>=1.0.0->argon2-cffi->notebook>=4.4.1->widgetsnbextension~=3.5.0->ipywidgets>=7.0.0->cufflinks) (2.20)\n",
      "Requirement already satisfied: pyparsing>=2.0.2 in /usr/local/lib/python3.6/site-packages (from packaging->bleach->nbconvert->notebook>=4.4.1->widgetsnbextension~=3.5.0->ipywidgets>=7.0.0->cufflinks) (2.4.7)\n"
     ]
    },
    {
     "name": "stdout",
     "output_type": "stream",
     "text": [
      "Requirement already satisfied: plotly in /usr/local/lib/python3.6/site-packages (4.9.0)\n",
      "Requirement already satisfied: retrying>=1.3.3 in /usr/local/lib/python3.6/site-packages (from plotly) (1.3.3)\n",
      "Requirement already satisfied: six in /usr/local/lib/python3.6/site-packages (from plotly) (1.15.0)\n"
     ]
    }
   ],
   "source": [
    "# Instalação do Plotly e do Cufflinks:\n",
    "# O Cufflinks conecta o pandas ao Plotly:\n",
    "!pip install cufflinks\n",
    "!pip install plotly"
   ]
  },
  {
   "cell_type": "code",
   "execution_count": 3,
   "metadata": {},
   "outputs": [],
   "source": [
    "# Importando os módulos:\n",
    "import cufflinks as cf\n",
    "from plotly.offline import iplot"
   ]
  },
  {
   "cell_type": "code",
   "execution_count": 25,
   "metadata": {},
   "outputs": [],
   "source": [
    "total = pd.read_csv(r'caso_full.csv', sep=',')\n",
    "cnes = pd.read_csv(r'cnes_beds.csv', sep=',')\n",
    "impulso= pd.read_csv(r'impulso-caso-full.csv', sep=',')"
   ]
  },
  {
   "cell_type": "code",
   "execution_count": 5,
   "metadata": {},
   "outputs": [],
   "source": [
    "total.reset_index(inplace=True)\n",
    "total.dropna(inplace=True)"
   ]
  },
  {
   "cell_type": "code",
   "execution_count": 6,
   "metadata": {},
   "outputs": [
    {
     "data": {
      "text/html": [
       "<div>\n",
       "<style scoped>\n",
       "    .dataframe tbody tr th:only-of-type {\n",
       "        vertical-align: middle;\n",
       "    }\n",
       "\n",
       "    .dataframe tbody tr th {\n",
       "        vertical-align: top;\n",
       "    }\n",
       "\n",
       "    .dataframe thead th {\n",
       "        text-align: right;\n",
       "    }\n",
       "</style>\n",
       "<table border=\"1\" class=\"dataframe\">\n",
       "  <thead>\n",
       "    <tr style=\"text-align: right;\">\n",
       "      <th></th>\n",
       "      <th>index</th>\n",
       "      <th>city</th>\n",
       "      <th>city_ibge_code</th>\n",
       "      <th>date</th>\n",
       "      <th>epidemiological_week</th>\n",
       "      <th>estimated_population_2019</th>\n",
       "      <th>is_last</th>\n",
       "      <th>is_repeated</th>\n",
       "      <th>last_available_confirmed</th>\n",
       "      <th>last_available_confirmed_per_100k_inhabitants</th>\n",
       "      <th>last_available_date</th>\n",
       "      <th>last_available_death_rate</th>\n",
       "      <th>last_available_deaths</th>\n",
       "      <th>order_for_place</th>\n",
       "      <th>place_type</th>\n",
       "      <th>state</th>\n",
       "      <th>new_confirmed</th>\n",
       "      <th>new_deaths</th>\n",
       "    </tr>\n",
       "  </thead>\n",
       "  <tbody>\n",
       "    <tr>\n",
       "      <th>0</th>\n",
       "      <td>0</td>\n",
       "      <td>São Paulo</td>\n",
       "      <td>3550308.0</td>\n",
       "      <td>2020-02-25</td>\n",
       "      <td>9</td>\n",
       "      <td>12252023.0</td>\n",
       "      <td>False</td>\n",
       "      <td>False</td>\n",
       "      <td>1</td>\n",
       "      <td>0.00816</td>\n",
       "      <td>2020-02-25</td>\n",
       "      <td>0.0</td>\n",
       "      <td>0</td>\n",
       "      <td>1</td>\n",
       "      <td>city</td>\n",
       "      <td>SP</td>\n",
       "      <td>1</td>\n",
       "      <td>0</td>\n",
       "    </tr>\n",
       "    <tr>\n",
       "      <th>2</th>\n",
       "      <td>2</td>\n",
       "      <td>São Paulo</td>\n",
       "      <td>3550308.0</td>\n",
       "      <td>2020-02-26</td>\n",
       "      <td>9</td>\n",
       "      <td>12252023.0</td>\n",
       "      <td>False</td>\n",
       "      <td>False</td>\n",
       "      <td>1</td>\n",
       "      <td>0.00816</td>\n",
       "      <td>2020-02-26</td>\n",
       "      <td>0.0</td>\n",
       "      <td>0</td>\n",
       "      <td>2</td>\n",
       "      <td>city</td>\n",
       "      <td>SP</td>\n",
       "      <td>0</td>\n",
       "      <td>0</td>\n",
       "    </tr>\n",
       "    <tr>\n",
       "      <th>4</th>\n",
       "      <td>4</td>\n",
       "      <td>São Paulo</td>\n",
       "      <td>3550308.0</td>\n",
       "      <td>2020-02-27</td>\n",
       "      <td>9</td>\n",
       "      <td>12252023.0</td>\n",
       "      <td>False</td>\n",
       "      <td>False</td>\n",
       "      <td>1</td>\n",
       "      <td>0.00816</td>\n",
       "      <td>2020-02-27</td>\n",
       "      <td>0.0</td>\n",
       "      <td>0</td>\n",
       "      <td>3</td>\n",
       "      <td>city</td>\n",
       "      <td>SP</td>\n",
       "      <td>0</td>\n",
       "      <td>0</td>\n",
       "    </tr>\n",
       "    <tr>\n",
       "      <th>6</th>\n",
       "      <td>6</td>\n",
       "      <td>São Paulo</td>\n",
       "      <td>3550308.0</td>\n",
       "      <td>2020-02-28</td>\n",
       "      <td>9</td>\n",
       "      <td>12252023.0</td>\n",
       "      <td>False</td>\n",
       "      <td>False</td>\n",
       "      <td>2</td>\n",
       "      <td>0.01632</td>\n",
       "      <td>2020-02-28</td>\n",
       "      <td>0.0</td>\n",
       "      <td>0</td>\n",
       "      <td>4</td>\n",
       "      <td>city</td>\n",
       "      <td>SP</td>\n",
       "      <td>1</td>\n",
       "      <td>0</td>\n",
       "    </tr>\n",
       "    <tr>\n",
       "      <th>8</th>\n",
       "      <td>8</td>\n",
       "      <td>São Paulo</td>\n",
       "      <td>3550308.0</td>\n",
       "      <td>2020-02-29</td>\n",
       "      <td>9</td>\n",
       "      <td>12252023.0</td>\n",
       "      <td>False</td>\n",
       "      <td>False</td>\n",
       "      <td>2</td>\n",
       "      <td>0.01632</td>\n",
       "      <td>2020-02-29</td>\n",
       "      <td>0.0</td>\n",
       "      <td>0</td>\n",
       "      <td>5</td>\n",
       "      <td>city</td>\n",
       "      <td>SP</td>\n",
       "      <td>0</td>\n",
       "      <td>0</td>\n",
       "    </tr>\n",
       "  </tbody>\n",
       "</table>\n",
       "</div>"
      ],
      "text/plain": [
       "   index       city  city_ibge_code        date  epidemiological_week  \\\n",
       "0      0  São Paulo       3550308.0  2020-02-25                     9   \n",
       "2      2  São Paulo       3550308.0  2020-02-26                     9   \n",
       "4      4  São Paulo       3550308.0  2020-02-27                     9   \n",
       "6      6  São Paulo       3550308.0  2020-02-28                     9   \n",
       "8      8  São Paulo       3550308.0  2020-02-29                     9   \n",
       "\n",
       "   estimated_population_2019  is_last  is_repeated  last_available_confirmed  \\\n",
       "0                 12252023.0    False        False                         1   \n",
       "2                 12252023.0    False        False                         1   \n",
       "4                 12252023.0    False        False                         1   \n",
       "6                 12252023.0    False        False                         2   \n",
       "8                 12252023.0    False        False                         2   \n",
       "\n",
       "   last_available_confirmed_per_100k_inhabitants last_available_date  \\\n",
       "0                                        0.00816          2020-02-25   \n",
       "2                                        0.00816          2020-02-26   \n",
       "4                                        0.00816          2020-02-27   \n",
       "6                                        0.01632          2020-02-28   \n",
       "8                                        0.01632          2020-02-29   \n",
       "\n",
       "   last_available_death_rate  last_available_deaths  order_for_place  \\\n",
       "0                        0.0                      0                1   \n",
       "2                        0.0                      0                2   \n",
       "4                        0.0                      0                3   \n",
       "6                        0.0                      0                4   \n",
       "8                        0.0                      0                5   \n",
       "\n",
       "  place_type state  new_confirmed  new_deaths  \n",
       "0       city    SP              1           0  \n",
       "2       city    SP              0           0  \n",
       "4       city    SP              0           0  \n",
       "6       city    SP              1           0  \n",
       "8       city    SP              0           0  "
      ]
     },
     "execution_count": 6,
     "metadata": {},
     "output_type": "execute_result"
    }
   ],
   "source": [
    "total.head()"
   ]
  },
  {
   "cell_type": "code",
   "execution_count": 7,
   "metadata": {},
   "outputs": [
    {
     "data": {
      "text/plain": [
       "Index(['index', 'city', 'city_ibge_code', 'date', 'epidemiological_week',\n",
       "       'estimated_population_2019', 'is_last', 'is_repeated',\n",
       "       'last_available_confirmed',\n",
       "       'last_available_confirmed_per_100k_inhabitants', 'last_available_date',\n",
       "       'last_available_death_rate', 'last_available_deaths', 'order_for_place',\n",
       "       'place_type', 'state', 'new_confirmed', 'new_deaths'],\n",
       "      dtype='object')"
      ]
     },
     "execution_count": 7,
     "metadata": {},
     "output_type": "execute_result"
    }
   ],
   "source": [
    "total.columns\n"
   ]
  },
  {
   "cell_type": "code",
   "execution_count": 8,
   "metadata": {},
   "outputs": [
    {
     "name": "stdout",
     "output_type": "stream",
     "text": [
      "<class 'pandas.core.frame.DataFrame'>\n",
      "Int64Index: 580358 entries, 0 to 599511\n",
      "Data columns (total 18 columns):\n",
      " #   Column                                         Non-Null Count   Dtype         \n",
      "---  ------                                         --------------   -----         \n",
      " 0   index                                          580358 non-null  int64         \n",
      " 1   city                                           580358 non-null  object        \n",
      " 2   city_ibge_code                                 580358 non-null  int64         \n",
      " 3   date                                           580358 non-null  datetime64[ns]\n",
      " 4   epidemiological_week                           580358 non-null  int64         \n",
      " 5   estimated_population_2019                      580358 non-null  float64       \n",
      " 6   is_last                                        580358 non-null  bool          \n",
      " 7   is_repeated                                    580358 non-null  bool          \n",
      " 8   last_available_confirmed                       580358 non-null  int64         \n",
      " 9   last_available_confirmed_per_100k_inhabitants  580358 non-null  float64       \n",
      " 10  last_available_date                            580358 non-null  object        \n",
      " 11  last_available_death_rate                      580358 non-null  float64       \n",
      " 12  last_available_deaths                          580358 non-null  int64         \n",
      " 13  order_for_place                                580358 non-null  int64         \n",
      " 14  place_type                                     580358 non-null  object        \n",
      " 15  state                                          580358 non-null  object        \n",
      " 16  new_confirmed                                  580358 non-null  int64         \n",
      " 17  new_deaths                                     580358 non-null  int64         \n",
      "dtypes: bool(2), datetime64[ns](1), float64(3), int64(8), object(4)\n",
      "memory usage: 76.4+ MB\n"
     ]
    }
   ],
   "source": [
    "total['city_ibge_code'] =  total['city_ibge_code'].astype(np.int64)\n",
    "total['date'] =pd.to_datetime(total.date)\n",
    "\n",
    "total.info()"
   ]
  },
  {
   "cell_type": "code",
   "execution_count": 9,
   "metadata": {},
   "outputs": [],
   "source": [
    "df_sjc =  total[total.city_ibge_code.eq(3549904)]\n",
    "df_sjc.sort_values('date', ascending=True, inplace=True)"
   ]
  },
  {
   "cell_type": "code",
   "execution_count": 10,
   "metadata": {},
   "outputs": [
    {
     "data": {
      "text/html": [
       "<div>\n",
       "<style scoped>\n",
       "    .dataframe tbody tr th:only-of-type {\n",
       "        vertical-align: middle;\n",
       "    }\n",
       "\n",
       "    .dataframe tbody tr th {\n",
       "        vertical-align: top;\n",
       "    }\n",
       "\n",
       "    .dataframe thead th {\n",
       "        text-align: right;\n",
       "    }\n",
       "</style>\n",
       "<table border=\"1\" class=\"dataframe\">\n",
       "  <thead>\n",
       "    <tr style=\"text-align: right;\">\n",
       "      <th></th>\n",
       "      <th>index</th>\n",
       "      <th>city</th>\n",
       "      <th>city_ibge_code</th>\n",
       "      <th>date</th>\n",
       "      <th>epidemiological_week</th>\n",
       "      <th>estimated_population_2019</th>\n",
       "      <th>is_last</th>\n",
       "      <th>is_repeated</th>\n",
       "      <th>last_available_confirmed</th>\n",
       "      <th>last_available_confirmed_per_100k_inhabitants</th>\n",
       "      <th>last_available_date</th>\n",
       "      <th>last_available_death_rate</th>\n",
       "      <th>last_available_deaths</th>\n",
       "      <th>order_for_place</th>\n",
       "      <th>place_type</th>\n",
       "      <th>state</th>\n",
       "      <th>new_confirmed</th>\n",
       "      <th>new_deaths</th>\n",
       "    </tr>\n",
       "  </thead>\n",
       "  <tbody>\n",
       "    <tr>\n",
       "      <th>479</th>\n",
       "      <td>479</td>\n",
       "      <td>São José dos Campos</td>\n",
       "      <td>3549904</td>\n",
       "      <td>2020-03-18</td>\n",
       "      <td>12</td>\n",
       "      <td>721944.0</td>\n",
       "      <td>False</td>\n",
       "      <td>False</td>\n",
       "      <td>1</td>\n",
       "      <td>0.13851</td>\n",
       "      <td>2020-03-18</td>\n",
       "      <td>0.0</td>\n",
       "      <td>0</td>\n",
       "      <td>1</td>\n",
       "      <td>city</td>\n",
       "      <td>SP</td>\n",
       "      <td>1</td>\n",
       "      <td>0</td>\n",
       "    </tr>\n",
       "    <tr>\n",
       "      <th>591</th>\n",
       "      <td>591</td>\n",
       "      <td>São José dos Campos</td>\n",
       "      <td>3549904</td>\n",
       "      <td>2020-03-19</td>\n",
       "      <td>12</td>\n",
       "      <td>721944.0</td>\n",
       "      <td>False</td>\n",
       "      <td>True</td>\n",
       "      <td>1</td>\n",
       "      <td>0.13851</td>\n",
       "      <td>2020-03-18</td>\n",
       "      <td>0.0</td>\n",
       "      <td>0</td>\n",
       "      <td>2</td>\n",
       "      <td>city</td>\n",
       "      <td>SP</td>\n",
       "      <td>0</td>\n",
       "      <td>0</td>\n",
       "    </tr>\n",
       "    <tr>\n",
       "      <th>731</th>\n",
       "      <td>731</td>\n",
       "      <td>São José dos Campos</td>\n",
       "      <td>3549904</td>\n",
       "      <td>2020-03-20</td>\n",
       "      <td>12</td>\n",
       "      <td>721944.0</td>\n",
       "      <td>False</td>\n",
       "      <td>False</td>\n",
       "      <td>1</td>\n",
       "      <td>0.13851</td>\n",
       "      <td>2020-03-20</td>\n",
       "      <td>0.0</td>\n",
       "      <td>0</td>\n",
       "      <td>3</td>\n",
       "      <td>city</td>\n",
       "      <td>SP</td>\n",
       "      <td>0</td>\n",
       "      <td>0</td>\n",
       "    </tr>\n",
       "    <tr>\n",
       "      <th>899</th>\n",
       "      <td>899</td>\n",
       "      <td>São José dos Campos</td>\n",
       "      <td>3549904</td>\n",
       "      <td>2020-03-21</td>\n",
       "      <td>12</td>\n",
       "      <td>721944.0</td>\n",
       "      <td>False</td>\n",
       "      <td>True</td>\n",
       "      <td>1</td>\n",
       "      <td>0.13851</td>\n",
       "      <td>2020-03-20</td>\n",
       "      <td>0.0</td>\n",
       "      <td>0</td>\n",
       "      <td>4</td>\n",
       "      <td>city</td>\n",
       "      <td>SP</td>\n",
       "      <td>0</td>\n",
       "      <td>0</td>\n",
       "    </tr>\n",
       "    <tr>\n",
       "      <th>1080</th>\n",
       "      <td>1080</td>\n",
       "      <td>São José dos Campos</td>\n",
       "      <td>3549904</td>\n",
       "      <td>2020-03-22</td>\n",
       "      <td>13</td>\n",
       "      <td>721944.0</td>\n",
       "      <td>False</td>\n",
       "      <td>True</td>\n",
       "      <td>1</td>\n",
       "      <td>0.13851</td>\n",
       "      <td>2020-03-20</td>\n",
       "      <td>0.0</td>\n",
       "      <td>0</td>\n",
       "      <td>5</td>\n",
       "      <td>city</td>\n",
       "      <td>SP</td>\n",
       "      <td>0</td>\n",
       "      <td>0</td>\n",
       "    </tr>\n",
       "  </tbody>\n",
       "</table>\n",
       "</div>"
      ],
      "text/plain": [
       "      index                 city  city_ibge_code       date  \\\n",
       "479     479  São José dos Campos         3549904 2020-03-18   \n",
       "591     591  São José dos Campos         3549904 2020-03-19   \n",
       "731     731  São José dos Campos         3549904 2020-03-20   \n",
       "899     899  São José dos Campos         3549904 2020-03-21   \n",
       "1080   1080  São José dos Campos         3549904 2020-03-22   \n",
       "\n",
       "      epidemiological_week  estimated_population_2019  is_last  is_repeated  \\\n",
       "479                     12                   721944.0    False        False   \n",
       "591                     12                   721944.0    False         True   \n",
       "731                     12                   721944.0    False        False   \n",
       "899                     12                   721944.0    False         True   \n",
       "1080                    13                   721944.0    False         True   \n",
       "\n",
       "      last_available_confirmed  last_available_confirmed_per_100k_inhabitants  \\\n",
       "479                          1                                        0.13851   \n",
       "591                          1                                        0.13851   \n",
       "731                          1                                        0.13851   \n",
       "899                          1                                        0.13851   \n",
       "1080                         1                                        0.13851   \n",
       "\n",
       "     last_available_date  last_available_death_rate  last_available_deaths  \\\n",
       "479           2020-03-18                        0.0                      0   \n",
       "591           2020-03-18                        0.0                      0   \n",
       "731           2020-03-20                        0.0                      0   \n",
       "899           2020-03-20                        0.0                      0   \n",
       "1080          2020-03-20                        0.0                      0   \n",
       "\n",
       "      order_for_place place_type state  new_confirmed  new_deaths  \n",
       "479                 1       city    SP              1           0  \n",
       "591                 2       city    SP              0           0  \n",
       "731                 3       city    SP              0           0  \n",
       "899                 4       city    SP              0           0  \n",
       "1080                5       city    SP              0           0  "
      ]
     },
     "execution_count": 10,
     "metadata": {},
     "output_type": "execute_result"
    }
   ],
   "source": [
    "df_sjc.head()"
   ]
  },
  {
   "cell_type": "code",
   "execution_count": 11,
   "metadata": {},
   "outputs": [
    {
     "data": {
      "text/plain": [
       "<AxesSubplot:xlabel='date'>"
      ]
     },
     "execution_count": 11,
     "metadata": {},
     "output_type": "execute_result"
    },
    {
     "data": {
      "image/png": "[encoded data removed]",
      "text/plain": [
       "<Figure size 1800x720 with 1 Axes>"
      ]
     },
     "metadata": {
      "needs_background": "light"
     },
     "output_type": "display_data"
    }
   ],
   "source": [
    "df_sjc.plot.bar(x='date', y='new_confirmed', figsize=(25,10))"
   ]
  },
  {
   "cell_type": "code",
   "execution_count": 12,
   "metadata": {},
   "outputs": [
    {
     "data": {
      "text/plain": [
       "<AxesSubplot:xlabel='date'>"
      ]
     },
     "execution_count": 12,
     "metadata": {},
     "output_type": "execute_result"
    },
    {
     "data": {
      "image/png": "[encoded data removed]",
      "text/plain": [
       "<Figure size 1800x720 with 1 Axes>"
      ]
     },
     "metadata": {
      "needs_background": "light"
     },
     "output_type": "display_data"
    }
   ],
   "source": [
    "df_sjc.plot.bar(x='date', y='last_available_deaths', figsize=(25,10))"
   ]
  },
  {
   "cell_type": "code",
   "execution_count": null,
   "metadata": {},
   "outputs": [],
   "source": []
  },
  {
   "cell_type": "code",
   "execution_count": 13,
   "metadata": {},
   "outputs": [
    {
     "data": {
      "text/html": [
       "<div>\n",
       "<style scoped>\n",
       "    .dataframe tbody tr th:only-of-type {\n",
       "        vertical-align: middle;\n",
       "    }\n",
       "\n",
       "    .dataframe tbody tr th {\n",
       "        vertical-align: top;\n",
       "    }\n",
       "\n",
       "    .dataframe thead th {\n",
       "        text-align: right;\n",
       "    }\n",
       "</style>\n",
       "<table border=\"1\" class=\"dataframe\">\n",
       "  <thead>\n",
       "    <tr style=\"text-align: right;\">\n",
       "      <th></th>\n",
       "      <th>index</th>\n",
       "      <th>city</th>\n",
       "      <th>city_ibge_code</th>\n",
       "      <th>date</th>\n",
       "      <th>epidemiological_week</th>\n",
       "      <th>estimated_population_2019</th>\n",
       "      <th>is_last</th>\n",
       "      <th>is_repeated</th>\n",
       "      <th>last_available_confirmed</th>\n",
       "      <th>last_available_confirmed_per_100k_inhabitants</th>\n",
       "      <th>last_available_date</th>\n",
       "      <th>last_available_death_rate</th>\n",
       "      <th>last_available_deaths</th>\n",
       "      <th>order_for_place</th>\n",
       "      <th>place_type</th>\n",
       "      <th>state</th>\n",
       "      <th>new_confirmed</th>\n",
       "      <th>new_deaths</th>\n",
       "    </tr>\n",
       "  </thead>\n",
       "  <tbody>\n",
       "    <tr>\n",
       "      <th>479</th>\n",
       "      <td>479</td>\n",
       "      <td>São José dos Campos</td>\n",
       "      <td>3549904</td>\n",
       "      <td>2020-03-18</td>\n",
       "      <td>12</td>\n",
       "      <td>721944.0</td>\n",
       "      <td>False</td>\n",
       "      <td>False</td>\n",
       "      <td>1</td>\n",
       "      <td>0.13851</td>\n",
       "      <td>2020-03-18</td>\n",
       "      <td>0.0000</td>\n",
       "      <td>0</td>\n",
       "      <td>1</td>\n",
       "      <td>city</td>\n",
       "      <td>SP</td>\n",
       "      <td>1</td>\n",
       "      <td>0</td>\n",
       "    </tr>\n",
       "    <tr>\n",
       "      <th>591</th>\n",
       "      <td>591</td>\n",
       "      <td>São José dos Campos</td>\n",
       "      <td>3549904</td>\n",
       "      <td>2020-03-19</td>\n",
       "      <td>12</td>\n",
       "      <td>721944.0</td>\n",
       "      <td>False</td>\n",
       "      <td>True</td>\n",
       "      <td>1</td>\n",
       "      <td>0.13851</td>\n",
       "      <td>2020-03-18</td>\n",
       "      <td>0.0000</td>\n",
       "      <td>0</td>\n",
       "      <td>2</td>\n",
       "      <td>city</td>\n",
       "      <td>SP</td>\n",
       "      <td>0</td>\n",
       "      <td>0</td>\n",
       "    </tr>\n",
       "    <tr>\n",
       "      <th>731</th>\n",
       "      <td>731</td>\n",
       "      <td>São José dos Campos</td>\n",
       "      <td>3549904</td>\n",
       "      <td>2020-03-20</td>\n",
       "      <td>12</td>\n",
       "      <td>721944.0</td>\n",
       "      <td>False</td>\n",
       "      <td>False</td>\n",
       "      <td>1</td>\n",
       "      <td>0.13851</td>\n",
       "      <td>2020-03-20</td>\n",
       "      <td>0.0000</td>\n",
       "      <td>0</td>\n",
       "      <td>3</td>\n",
       "      <td>city</td>\n",
       "      <td>SP</td>\n",
       "      <td>0</td>\n",
       "      <td>0</td>\n",
       "    </tr>\n",
       "    <tr>\n",
       "      <th>899</th>\n",
       "      <td>899</td>\n",
       "      <td>São José dos Campos</td>\n",
       "      <td>3549904</td>\n",
       "      <td>2020-03-21</td>\n",
       "      <td>12</td>\n",
       "      <td>721944.0</td>\n",
       "      <td>False</td>\n",
       "      <td>True</td>\n",
       "      <td>1</td>\n",
       "      <td>0.13851</td>\n",
       "      <td>2020-03-20</td>\n",
       "      <td>0.0000</td>\n",
       "      <td>0</td>\n",
       "      <td>4</td>\n",
       "      <td>city</td>\n",
       "      <td>SP</td>\n",
       "      <td>0</td>\n",
       "      <td>0</td>\n",
       "    </tr>\n",
       "    <tr>\n",
       "      <th>1080</th>\n",
       "      <td>1080</td>\n",
       "      <td>São José dos Campos</td>\n",
       "      <td>3549904</td>\n",
       "      <td>2020-03-22</td>\n",
       "      <td>13</td>\n",
       "      <td>721944.0</td>\n",
       "      <td>False</td>\n",
       "      <td>True</td>\n",
       "      <td>1</td>\n",
       "      <td>0.13851</td>\n",
       "      <td>2020-03-20</td>\n",
       "      <td>0.0000</td>\n",
       "      <td>0</td>\n",
       "      <td>5</td>\n",
       "      <td>city</td>\n",
       "      <td>SP</td>\n",
       "      <td>0</td>\n",
       "      <td>0</td>\n",
       "    </tr>\n",
       "    <tr>\n",
       "      <th>...</th>\n",
       "      <td>...</td>\n",
       "      <td>...</td>\n",
       "      <td>...</td>\n",
       "      <td>...</td>\n",
       "      <td>...</td>\n",
       "      <td>...</td>\n",
       "      <td>...</td>\n",
       "      <td>...</td>\n",
       "      <td>...</td>\n",
       "      <td>...</td>\n",
       "      <td>...</td>\n",
       "      <td>...</td>\n",
       "      <td>...</td>\n",
       "      <td>...</td>\n",
       "      <td>...</td>\n",
       "      <td>...</td>\n",
       "      <td>...</td>\n",
       "      <td>...</td>\n",
       "    </tr>\n",
       "    <tr>\n",
       "      <th>576989</th>\n",
       "      <td>576989</td>\n",
       "      <td>São José dos Campos</td>\n",
       "      <td>3549904</td>\n",
       "      <td>2020-08-21</td>\n",
       "      <td>34</td>\n",
       "      <td>721944.0</td>\n",
       "      <td>False</td>\n",
       "      <td>False</td>\n",
       "      <td>11167</td>\n",
       "      <td>1546.79587</td>\n",
       "      <td>2020-08-21</td>\n",
       "      <td>0.0273</td>\n",
       "      <td>305</td>\n",
       "      <td>157</td>\n",
       "      <td>city</td>\n",
       "      <td>SP</td>\n",
       "      <td>223</td>\n",
       "      <td>7</td>\n",
       "    </tr>\n",
       "    <tr>\n",
       "      <th>582563</th>\n",
       "      <td>582563</td>\n",
       "      <td>São José dos Campos</td>\n",
       "      <td>3549904</td>\n",
       "      <td>2020-08-22</td>\n",
       "      <td>34</td>\n",
       "      <td>721944.0</td>\n",
       "      <td>False</td>\n",
       "      <td>False</td>\n",
       "      <td>11424</td>\n",
       "      <td>1582.39420</td>\n",
       "      <td>2020-08-22</td>\n",
       "      <td>0.0270</td>\n",
       "      <td>309</td>\n",
       "      <td>158</td>\n",
       "      <td>city</td>\n",
       "      <td>SP</td>\n",
       "      <td>257</td>\n",
       "      <td>4</td>\n",
       "    </tr>\n",
       "    <tr>\n",
       "      <th>588138</th>\n",
       "      <td>588138</td>\n",
       "      <td>São José dos Campos</td>\n",
       "      <td>3549904</td>\n",
       "      <td>2020-08-23</td>\n",
       "      <td>35</td>\n",
       "      <td>721944.0</td>\n",
       "      <td>False</td>\n",
       "      <td>False</td>\n",
       "      <td>11646</td>\n",
       "      <td>1613.14451</td>\n",
       "      <td>2020-08-23</td>\n",
       "      <td>0.0265</td>\n",
       "      <td>309</td>\n",
       "      <td>159</td>\n",
       "      <td>city</td>\n",
       "      <td>SP</td>\n",
       "      <td>222</td>\n",
       "      <td>0</td>\n",
       "    </tr>\n",
       "    <tr>\n",
       "      <th>593714</th>\n",
       "      <td>593714</td>\n",
       "      <td>São José dos Campos</td>\n",
       "      <td>3549904</td>\n",
       "      <td>2020-08-24</td>\n",
       "      <td>35</td>\n",
       "      <td>721944.0</td>\n",
       "      <td>True</td>\n",
       "      <td>False</td>\n",
       "      <td>11695</td>\n",
       "      <td>1619.93174</td>\n",
       "      <td>2020-08-24</td>\n",
       "      <td>0.0264</td>\n",
       "      <td>309</td>\n",
       "      <td>160</td>\n",
       "      <td>city</td>\n",
       "      <td>SP</td>\n",
       "      <td>49</td>\n",
       "      <td>0</td>\n",
       "    </tr>\n",
       "    <tr>\n",
       "      <th>599291</th>\n",
       "      <td>599291</td>\n",
       "      <td>São José dos Campos</td>\n",
       "      <td>3549904</td>\n",
       "      <td>2020-08-25</td>\n",
       "      <td>35</td>\n",
       "      <td>721944.0</td>\n",
       "      <td>False</td>\n",
       "      <td>True</td>\n",
       "      <td>11695</td>\n",
       "      <td>1619.93174</td>\n",
       "      <td>2020-08-24</td>\n",
       "      <td>0.0264</td>\n",
       "      <td>309</td>\n",
       "      <td>161</td>\n",
       "      <td>city</td>\n",
       "      <td>SP</td>\n",
       "      <td>0</td>\n",
       "      <td>0</td>\n",
       "    </tr>\n",
       "  </tbody>\n",
       "</table>\n",
       "<p>161 rows × 18 columns</p>\n",
       "</div>"
      ],
      "text/plain": [
       "         index                 city  city_ibge_code       date  \\\n",
       "479        479  São José dos Campos         3549904 2020-03-18   \n",
       "591        591  São José dos Campos         3549904 2020-03-19   \n",
       "731        731  São José dos Campos         3549904 2020-03-20   \n",
       "899        899  São José dos Campos         3549904 2020-03-21   \n",
       "1080      1080  São José dos Campos         3549904 2020-03-22   \n",
       "...        ...                  ...             ...        ...   \n",
       "576989  576989  São José dos Campos         3549904 2020-08-21   \n",
       "582563  582563  São José dos Campos         3549904 2020-08-22   \n",
       "588138  588138  São José dos Campos         3549904 2020-08-23   \n",
       "593714  593714  São José dos Campos         3549904 2020-08-24   \n",
       "599291  599291  São José dos Campos         3549904 2020-08-25   \n",
       "\n",
       "        epidemiological_week  estimated_population_2019  is_last  is_repeated  \\\n",
       "479                       12                   721944.0    False        False   \n",
       "591                       12                   721944.0    False         True   \n",
       "731                       12                   721944.0    False        False   \n",
       "899                       12                   721944.0    False         True   \n",
       "1080                      13                   721944.0    False         True   \n",
       "...                      ...                        ...      ...          ...   \n",
       "576989                    34                   721944.0    False        False   \n",
       "582563                    34                   721944.0    False        False   \n",
       "588138                    35                   721944.0    False        False   \n",
       "593714                    35                   721944.0     True        False   \n",
       "599291                    35                   721944.0    False         True   \n",
       "\n",
       "        last_available_confirmed  \\\n",
       "479                            1   \n",
       "591                            1   \n",
       "731                            1   \n",
       "899                            1   \n",
       "1080                           1   \n",
       "...                          ...   \n",
       "576989                     11167   \n",
       "582563                     11424   \n",
       "588138                     11646   \n",
       "593714                     11695   \n",
       "599291                     11695   \n",
       "\n",
       "        last_available_confirmed_per_100k_inhabitants last_available_date  \\\n",
       "479                                           0.13851          2020-03-18   \n",
       "591                                           0.13851          2020-03-18   \n",
       "731                                           0.13851          2020-03-20   \n",
       "899                                           0.13851          2020-03-20   \n",
       "1080                                          0.13851          2020-03-20   \n",
       "...                                               ...                 ...   \n",
       "576989                                     1546.79587          2020-08-21   \n",
       "582563                                     1582.39420          2020-08-22   \n",
       "588138                                     1613.14451          2020-08-23   \n",
       "593714                                     1619.93174          2020-08-24   \n",
       "599291                                     1619.93174          2020-08-24   \n",
       "\n",
       "        last_available_death_rate  last_available_deaths  order_for_place  \\\n",
       "479                        0.0000                      0                1   \n",
       "591                        0.0000                      0                2   \n",
       "731                        0.0000                      0                3   \n",
       "899                        0.0000                      0                4   \n",
       "1080                       0.0000                      0                5   \n",
       "...                           ...                    ...              ...   \n",
       "576989                     0.0273                    305              157   \n",
       "582563                     0.0270                    309              158   \n",
       "588138                     0.0265                    309              159   \n",
       "593714                     0.0264                    309              160   \n",
       "599291                     0.0264                    309              161   \n",
       "\n",
       "       place_type state  new_confirmed  new_deaths  \n",
       "479          city    SP              1           0  \n",
       "591          city    SP              0           0  \n",
       "731          city    SP              0           0  \n",
       "899          city    SP              0           0  \n",
       "1080         city    SP              0           0  \n",
       "...           ...   ...            ...         ...  \n",
       "576989       city    SP            223           7  \n",
       "582563       city    SP            257           4  \n",
       "588138       city    SP            222           0  \n",
       "593714       city    SP             49           0  \n",
       "599291       city    SP              0           0  \n",
       "\n",
       "[161 rows x 18 columns]"
      ]
     },
     "execution_count": 13,
     "metadata": {},
     "output_type": "execute_result"
    }
   ],
   "source": [
    "df_sjc"
   ]
  },
  {
   "cell_type": "code",
   "execution_count": 14,
   "metadata": {},
   "outputs": [
    {
     "data": {
      "text/html": [
       "        <script type=\"text/javascript\">\n",
       "        window.PlotlyConfig = {MathJaxConfig: 'local'};\n",
       "        if (window.MathJax) {MathJax.Hub.Config({SVG: {font: \"STIX-Web\"}});}\n",
       "        if (typeof require !== 'undefined') {\n",
       "        require.undef(\"plotly\");\n",
       "        requirejs.config({\n",
       "            paths: {\n",
       "                'plotly': ['https://cdn.plot.ly/plotly-latest.min']\n",
       "            }\n",
       "        });\n",
       "        require(['plotly'], function(Plotly) {\n",
       "            window._Plotly = Plotly;\n",
       "        });\n",
       "        }\n",
       "        </script>\n",
       "        "
      ]
     },
     "metadata": {},
     "output_type": "display_data"
    }
   ],
   "source": [
    " cf.go_offline()"
   ]
  },
  {
   "cell_type": "code",
   "execution_count": 15,
   "metadata": {},
   "outputs": [
    {
     "data": {
      "application/vnd.plotly.v1+json": {
       "config": {
        "linkText": "Export to plot.ly",
        "plotlyServerURL": "https://plot.ly",
        "showLink": true
       },
       "data": [
        {
         "line": {
          "color": "rgba(219, 64, 82, 1.0)",
          "dash": "solid",
          "shape": "linear",
          "width": 1.3
         },
         "marker": {
          "size": 12,
          "symbol": "circle"
         },
         "mode": "markers",
         "name": "last_available_deaths",
         "text": "",
         "type": "scatter",
         "x": [
          "2020-03-18",
          "2020-03-19",
          "2020-03-20",
          "2020-03-21",
          "2020-03-22",
          "2020-03-23",
          "2020-03-24",
          "2020-03-25",
          "2020-03-26",
          "2020-03-27",
          "2020-03-28",
          "2020-03-29",
          "2020-03-30",
          "2020-03-31",
          "2020-04-01",
          "2020-04-02",
          "2020-04-03",
          "2020-04-04",
          "2020-04-05",
          "2020-04-06",
          "2020-04-07",
          "2020-04-08",
          "2020-04-09",
          "2020-04-10",
          "2020-04-11",
          "2020-04-12",
          "2020-04-13",
          "2020-04-14",
          "2020-04-15",
          "2020-04-16",
          "2020-04-17",
          "2020-04-18",
          "2020-04-19",
          "2020-04-20",
          "2020-04-21",
          "2020-04-22",
          "2020-04-23",
          "2020-04-24",
          "2020-04-25",
          "2020-04-26",
          "2020-04-27",
          "2020-04-28",
          "2020-04-29",
          "2020-04-30",
          "2020-05-01",
          "2020-05-02",
          "2020-05-03",
          "2020-05-04",
          "2020-05-05",
          "2020-05-06",
          "2020-05-07",
          "2020-05-08",
          "2020-05-09",
          "2020-05-10",
          "2020-05-11",
          "2020-05-12",
          "2020-05-13",
          "2020-05-14",
          "2020-05-15",
          "2020-05-16",
          "2020-05-17",
          "2020-05-18",
          "2020-05-19",
          "2020-05-20",
          "2020-05-21",
          "2020-05-22",
          "2020-05-23",
          "2020-05-24",
          "2020-05-25",
          "2020-05-26",
          "2020-05-27",
          "2020-05-28",
          "2020-05-29",
          "2020-05-30",
          "2020-05-31",
          "2020-06-01",
          "2020-06-02",
          "2020-06-03",
          "2020-06-04",
          "2020-06-05",
          "2020-06-06",
          "2020-06-07",
          "2020-06-08",
          "2020-06-09",
          "2020-06-10",
          "2020-06-11",
          "2020-06-12",
          "2020-06-13",
          "2020-06-14",
          "2020-06-15",
          "2020-06-16",
          "2020-06-17",
          "2020-06-18",
          "2020-06-19",
          "2020-06-20",
          "2020-06-21",
          "2020-06-22",
          "2020-06-23",
          "2020-06-24",
          "2020-06-25",
          "2020-06-26",
          "2020-06-27",
          "2020-06-28",
          "2020-06-29",
          "2020-06-30",
          "2020-07-01",
          "2020-07-02",
          "2020-07-03",
          "2020-07-04",
          "2020-07-05",
          "2020-07-06",
          "2020-07-07",
          "2020-07-08",
          "2020-07-09",
          "2020-07-10",
          "2020-07-11",
          "2020-07-12",
          "2020-07-13",
          "2020-07-14",
          "2020-07-15",
          "2020-07-16",
          "2020-07-17",
          "2020-07-18",
          "2020-07-19",
          "2020-07-20",
          "2020-07-21",
          "2020-07-22",
          "2020-07-23",
          "2020-07-24",
          "2020-07-25",
          "2020-07-26",
          "2020-07-27",
          "2020-07-28",
          "2020-07-29",
          "2020-07-30",
          "2020-07-31",
          "2020-08-01",
          "2020-08-02",
          "2020-08-03",
          "2020-08-04",
          "2020-08-05",
          "2020-08-06",
          "2020-08-07",
          "2020-08-08",
          "2020-08-09",
          "2020-08-10",
          "2020-08-11",
          "2020-08-12",
          "2020-08-13",
          "2020-08-14",
          "2020-08-15",
          "2020-08-16",
          "2020-08-17",
          "2020-08-18",
          "2020-08-19",
          "2020-08-20",
          "2020-08-21",
          "2020-08-22",
          "2020-08-23",
          "2020-08-24",
          "2020-08-25"
         ],
         "y": [
          0,
          0,
          0,
          0,
          0,
          0,
          0,
          0,
          0,
          0,
          0,
          0,
          0,
          0,
          0,
          0,
          0,
          0,
          0,
          0,
          0,
          0,
          1,
          1,
          1,
          1,
          1,
          2,
          3,
          3,
          3,
          3,
          3,
          3,
          3,
          3,
          5,
          5,
          5,
          5,
          5,
          10,
          10,
          10,
          11,
          11,
          11,
          11,
          14,
          14,
          14,
          15,
          16,
          16,
          16,
          17,
          18,
          18,
          19,
          20,
          20,
          20,
          27,
          28,
          29,
          30,
          30,
          30,
          30,
          30,
          30,
          32,
          33,
          35,
          35,
          35,
          36,
          39,
          42,
          45,
          45,
          45,
          45,
          50,
          54,
          55,
          56,
          56,
          56,
          56,
          61,
          64,
          67,
          69,
          72,
          72,
          72,
          81,
          82,
          86,
          86,
          87,
          87,
          87,
          92,
          94,
          97,
          101,
          105,
          105,
          105,
          111,
          113,
          115,
          116,
          116,
          116,
          116,
          121,
          126,
          131,
          135,
          141,
          141,
          141,
          153,
          156,
          165,
          172,
          182,
          184,
          184,
          186,
          192,
          195,
          200,
          204,
          204,
          204,
          215,
          221,
          226,
          230,
          232,
          232,
          232,
          256,
          262,
          271,
          274,
          276,
          281,
          281,
          291,
          295,
          298,
          305,
          309,
          309,
          309,
          309
         ]
        }
       ],
       "layout": {
        "legend": {
         "bgcolor": "#F5F6F9",
         "font": {
          "color": "#4D5663"
         }
        },
        "paper_bgcolor": "#F5F6F9",
        "plot_bgcolor": "#F5F6F9",
        "template": {
         "data": {
          "bar": [
           {
            "error_x": {
             "color": "#2a3f5f"
            },
            "error_y": {
             "color": "#2a3f5f"
            },
            "marker": {
             "line": {
              "color": "#E5ECF6",
              "width": 0.5
             }
            },
            "type": "bar"
           }
          ],
          "barpolar": [
           {
            "marker": {
             "line": {
              "color": "#E5ECF6",
              "width": 0.5
             }
            },
            "type": "barpolar"
           }
          ],
          "carpet": [
           {
            "aaxis": {
             "endlinecolor": "#2a3f5f",
             "gridcolor": "white",
             "linecolor": "white",
             "minorgridcolor": "white",
             "startlinecolor": "#2a3f5f"
            },
            "baxis": {
             "endlinecolor": "#2a3f5f",
             "gridcolor": "white",
             "linecolor": "white",
             "minorgridcolor": "white",
             "startlinecolor": "#2a3f5f"
            },
            "type": "carpet"
           }
          ],
          "choropleth": [
           {
            "colorbar": {
             "outlinewidth": 0,
             "ticks": ""
            },
            "type": "choropleth"
           }
          ],
          "contour": [
           {
            "colorbar": {
             "outlinewidth": 0,
             "ticks": ""
            },
            "colorscale": [
             [
              0,
              "#0d0887"
             ],
             [
              0.1111111111111111,
              "#46039f"
             ],
             [
              0.2222222222222222,
              "#7201a8"
             ],
             [
              0.3333333333333333,
              "#9c179e"
             ],
             [
              0.4444444444444444,
              "#bd3786"
             ],
             [
              0.5555555555555556,
              "#d8576b"
             ],
             [
              0.6666666666666666,
              "#ed7953"
             ],
             [
              0.7777777777777778,
              "#fb9f3a"
             ],
             [
              0.8888888888888888,
              "#fdca26"
             ],
             [
              1,
              "#f0f921"
             ]
            ],
            "type": "contour"
           }
          ],
          "contourcarpet": [
           {
            "colorbar": {
             "outlinewidth": 0,
             "ticks": ""
            },
            "type": "contourcarpet"
           }
          ],
          "heatmap": [
           {
            "colorbar": {
             "outlinewidth": 0,
             "ticks": ""
            },
            "colorscale": [
             [
              0,
              "#0d0887"
             ],
             [
              0.1111111111111111,
              "#46039f"
             ],
             [
              0.2222222222222222,
              "#7201a8"
             ],
             [
              0.3333333333333333,
              "#9c179e"
             ],
             [
              0.4444444444444444,
              "#bd3786"
             ],
             [
              0.5555555555555556,
              "#d8576b"
             ],
             [
              0.6666666666666666,
              "#ed7953"
             ],
             [
              0.7777777777777778,
              "#fb9f3a"
             ],
             [
              0.8888888888888888,
              "#fdca26"
             ],
             [
              1,
              "#f0f921"
             ]
            ],
            "type": "heatmap"
           }
          ],
          "heatmapgl": [
           {
            "colorbar": {
             "outlinewidth": 0,
             "ticks": ""
            },
            "colorscale": [
             [
              0,
              "#0d0887"
             ],
             [
              0.1111111111111111,
              "#46039f"
             ],
             [
              0.2222222222222222,
              "#7201a8"
             ],
             [
              0.3333333333333333,
              "#9c179e"
             ],
             [
              0.4444444444444444,
              "#bd3786"
             ],
             [
              0.5555555555555556,
              "#d8576b"
             ],
             [
              0.6666666666666666,
              "#ed7953"
             ],
             [
              0.7777777777777778,
              "#fb9f3a"
             ],
             [
              0.8888888888888888,
              "#fdca26"
             ],
             [
              1,
              "#f0f921"
             ]
            ],
            "type": "heatmapgl"
           }
          ],
          "histogram": [
           {
            "marker": {
             "colorbar": {
              "outlinewidth": 0,
              "ticks": ""
             }
            },
            "type": "histogram"
           }
          ],
          "histogram2d": [
           {
            "colorbar": {
             "outlinewidth": 0,
             "ticks": ""
            },
            "colorscale": [
             [
              0,
              "#0d0887"
             ],
             [
              0.1111111111111111,
              "#46039f"
             ],
             [
              0.2222222222222222,
              "#7201a8"
             ],
             [
              0.3333333333333333,
              "#9c179e"
             ],
             [
              0.4444444444444444,
              "#bd3786"
             ],
             [
              0.5555555555555556,
              "#d8576b"
             ],
             [
              0.6666666666666666,
              "#ed7953"
             ],
             [
              0.7777777777777778,
              "#fb9f3a"
             ],
             [
              0.8888888888888888,
              "#fdca26"
             ],
             [
              1,
              "#f0f921"
             ]
            ],
            "type": "histogram2d"
           }
          ],
          "histogram2dcontour": [
           {
            "colorbar": {
             "outlinewidth": 0,
             "ticks": ""
            },
            "colorscale": [
             [
              0,
              "#0d0887"
             ],
             [
              0.1111111111111111,
              "#46039f"
             ],
             [
              0.2222222222222222,
              "#7201a8"
             ],
             [
              0.3333333333333333,
              "#9c179e"
             ],
             [
              0.4444444444444444,
              "#bd3786"
             ],
             [
              0.5555555555555556,
              "#d8576b"
             ],
             [
              0.6666666666666666,
              "#ed7953"
             ],
             [
              0.7777777777777778,
              "#fb9f3a"
             ],
             [
              0.8888888888888888,
              "#fdca26"
             ],
             [
              1,
              "#f0f921"
             ]
            ],
            "type": "histogram2dcontour"
           }
          ],
          "mesh3d": [
           {
            "colorbar": {
             "outlinewidth": 0,
             "ticks": ""
            },
            "type": "mesh3d"
           }
          ],
          "parcoords": [
           {
            "line": {
             "colorbar": {
              "outlinewidth": 0,
              "ticks": ""
             }
            },
            "type": "parcoords"
           }
          ],
          "pie": [
           {
            "automargin": true,
            "type": "pie"
           }
          ],
          "scatter": [
           {
            "marker": {
             "colorbar": {
              "outlinewidth": 0,
              "ticks": ""
             }
            },
            "type": "scatter"
           }
          ],
          "scatter3d": [
           {
            "line": {
             "colorbar": {
              "outlinewidth": 0,
              "ticks": ""
             }
            },
            "marker": {
             "colorbar": {
              "outlinewidth": 0,
              "ticks": ""
             }
            },
            "type": "scatter3d"
           }
          ],
          "scattercarpet": [
           {
            "marker": {
             "colorbar": {
              "outlinewidth": 0,
              "ticks": ""
             }
            },
            "type": "scattercarpet"
           }
          ],
          "scattergeo": [
           {
            "marker": {
             "colorbar": {
              "outlinewidth": 0,
              "ticks": ""
             }
            },
            "type": "scattergeo"
           }
          ],
          "scattergl": [
           {
            "marker": {
             "colorbar": {
              "outlinewidth": 0,
              "ticks": ""
             }
            },
            "type": "scattergl"
           }
          ],
          "scattermapbox": [
           {
            "marker": {
             "colorbar": {
              "outlinewidth": 0,
              "ticks": ""
             }
            },
            "type": "scattermapbox"
           }
          ],
          "scatterpolar": [
           {
            "marker": {
             "colorbar": {
              "outlinewidth": 0,
              "ticks": ""
             }
            },
            "type": "scatterpolar"
           }
          ],
          "scatterpolargl": [
           {
            "marker": {
             "colorbar": {
              "outlinewidth": 0,
              "ticks": ""
             }
            },
            "type": "scatterpolargl"
           }
          ],
          "scatterternary": [
           {
            "marker": {
             "colorbar": {
              "outlinewidth": 0,
              "ticks": ""
             }
            },
            "type": "scatterternary"
           }
          ],
          "surface": [
           {
            "colorbar": {
             "outlinewidth": 0,
             "ticks": ""
            },
            "colorscale": [
             [
              0,
              "#0d0887"
             ],
             [
              0.1111111111111111,
              "#46039f"
             ],
             [
              0.2222222222222222,
              "#7201a8"
             ],
             [
              0.3333333333333333,
              "#9c179e"
             ],
             [
              0.4444444444444444,
              "#bd3786"
             ],
             [
              0.5555555555555556,
              "#d8576b"
             ],
             [
              0.6666666666666666,
              "#ed7953"
             ],
             [
              0.7777777777777778,
              "#fb9f3a"
             ],
             [
              0.8888888888888888,
              "#fdca26"
             ],
             [
              1,
              "#f0f921"
             ]
            ],
            "type": "surface"
           }
          ],
          "table": [
           {
            "cells": {
             "fill": {
              "color": "#EBF0F8"
             },
             "line": {
              "color": "white"
             }
            },
            "header": {
             "fill": {
              "color": "#C8D4E3"
             },
             "line": {
              "color": "white"
             }
            },
            "type": "table"
           }
          ]
         },
         "layout": {
          "annotationdefaults": {
           "arrowcolor": "#2a3f5f",
           "arrowhead": 0,
           "arrowwidth": 1
          },
          "coloraxis": {
           "colorbar": {
            "outlinewidth": 0,
            "ticks": ""
           }
          },
          "colorscale": {
           "diverging": [
            [
             0,
             "#8e0152"
            ],
            [
             0.1,
             "#c51b7d"
            ],
            [
             0.2,
             "#de77ae"
            ],
            [
             0.3,
             "#f1b6da"
            ],
            [
             0.4,
             "#fde0ef"
            ],
            [
             0.5,
             "#f7f7f7"
            ],
            [
             0.6,
             "#e6f5d0"
            ],
            [
             0.7,
             "#b8e186"
            ],
            [
             0.8,
             "#7fbc41"
            ],
            [
             0.9,
             "#4d9221"
            ],
            [
             1,
             "#276419"
            ]
           ],
           "sequential": [
            [
             0,
             "#0d0887"
            ],
            [
             0.1111111111111111,
             "#46039f"
            ],
            [
             0.2222222222222222,
             "#7201a8"
            ],
            [
             0.3333333333333333,
             "#9c179e"
            ],
            [
             0.4444444444444444,
             "#bd3786"
            ],
            [
             0.5555555555555556,
             "#d8576b"
            ],
            [
             0.6666666666666666,
             "#ed7953"
            ],
            [
             0.7777777777777778,
             "#fb9f3a"
            ],
            [
             0.8888888888888888,
             "#fdca26"
            ],
            [
             1,
             "#f0f921"
            ]
           ],
           "sequentialminus": [
            [
             0,
             "#0d0887"
            ],
            [
             0.1111111111111111,
             "#46039f"
            ],
            [
             0.2222222222222222,
             "#7201a8"
            ],
            [
             0.3333333333333333,
             "#9c179e"
            ],
            [
             0.4444444444444444,
             "#bd3786"
            ],
            [
             0.5555555555555556,
             "#d8576b"
            ],
            [
             0.6666666666666666,
             "#ed7953"
            ],
            [
             0.7777777777777778,
             "#fb9f3a"
            ],
            [
             0.8888888888888888,
             "#fdca26"
            ],
            [
             1,
             "#f0f921"
            ]
           ]
          },
          "colorway": [
           "#636efa",
           "#EF553B",
           "#00cc96",
           "#ab63fa",
           "#FFA15A",
           "#19d3f3",
           "#FF6692",
           "#B6E880",
           "#FF97FF",
           "#FECB52"
          ],
          "font": {
           "color": "#2a3f5f"
          },
          "geo": {
           "bgcolor": "white",
           "lakecolor": "white",
           "landcolor": "#E5ECF6",
           "showlakes": true,
           "showland": true,
           "subunitcolor": "white"
          },
          "hoverlabel": {
           "align": "left"
          },
          "hovermode": "closest",
          "mapbox": {
           "style": "light"
          },
          "paper_bgcolor": "white",
          "plot_bgcolor": "#E5ECF6",
          "polar": {
           "angularaxis": {
            "gridcolor": "white",
            "linecolor": "white",
            "ticks": ""
           },
           "bgcolor": "#E5ECF6",
           "radialaxis": {
            "gridcolor": "white",
            "linecolor": "white",
            "ticks": ""
           }
          },
          "scene": {
           "xaxis": {
            "backgroundcolor": "#E5ECF6",
            "gridcolor": "white",
            "gridwidth": 2,
            "linecolor": "white",
            "showbackground": true,
            "ticks": "",
            "zerolinecolor": "white"
           },
           "yaxis": {
            "backgroundcolor": "#E5ECF6",
            "gridcolor": "white",
            "gridwidth": 2,
            "linecolor": "white",
            "showbackground": true,
            "ticks": "",
            "zerolinecolor": "white"
           },
           "zaxis": {
            "backgroundcolor": "#E5ECF6",
            "gridcolor": "white",
            "gridwidth": 2,
            "linecolor": "white",
            "showbackground": true,
            "ticks": "",
            "zerolinecolor": "white"
           }
          },
          "shapedefaults": {
           "line": {
            "color": "#2a3f5f"
           }
          },
          "ternary": {
           "aaxis": {
            "gridcolor": "white",
            "linecolor": "white",
            "ticks": ""
           },
           "baxis": {
            "gridcolor": "white",
            "linecolor": "white",
            "ticks": ""
           },
           "bgcolor": "#E5ECF6",
           "caxis": {
            "gridcolor": "white",
            "linecolor": "white",
            "ticks": ""
           }
          },
          "title": {
           "x": 0.05
          },
          "xaxis": {
           "automargin": true,
           "gridcolor": "white",
           "linecolor": "white",
           "ticks": "",
           "title": {
            "standoff": 15
           },
           "zerolinecolor": "white",
           "zerolinewidth": 2
          },
          "yaxis": {
           "automargin": true,
           "gridcolor": "white",
           "linecolor": "white",
           "ticks": "",
           "title": {
            "standoff": 15
           },
           "zerolinecolor": "white",
           "zerolinewidth": 2
          }
         }
        },
        "title": {
         "font": {
          "color": "#4D5663"
         },
         "text": "Óbitos na cidade de São José dos Campos ao longo dos 5 meses da pandemia"
        },
        "xaxis": {
         "gridcolor": "#E1E5ED",
         "showgrid": true,
         "tickfont": {
          "color": "#4D5663"
         },
         "title": {
          "font": {
           "color": "#4D5663"
          },
          "text": ""
         },
         "zerolinecolor": "#E1E5ED"
        },
        "yaxis": {
         "gridcolor": "#E1E5ED",
         "showgrid": true,
         "tickfont": {
          "color": "#4D5663"
         },
         "title": {
          "font": {
           "color": "#4D5663"
          },
          "text": ""
         },
         "zerolinecolor": "#E1E5ED"
        }
       }
      },
      "text/html": [
       "<div>\n",
       "        \n",
       "        \n",
       "            <div id=\"87852b48-e215-4760-868e-3da5d59ea6ce\" class=\"plotly-graph-div\" style=\"height:525px; width:100%;\"></div>\n",
       "            <script type=\"text/javascript\">\n",
       "                require([\"plotly\"], function(Plotly) {\n",
       "                    window.PLOTLYENV=window.PLOTLYENV || {};\n",
       "                    window.PLOTLYENV.BASE_URL='https://plot.ly';\n",
       "                    \n",
       "                if (document.getElementById(\"87852b48-e215-4760-868e-3da5d59ea6ce\")) {\n",
       "                    Plotly.newPlot(\n",
       "                        '87852b48-e215-4760-868e-3da5d59ea6ce',\n",
       "                        [{\"line\": {\"color\": \"rgba(219, 64, 82, 1.0)\", \"dash\": \"solid\", \"shape\": \"linear\", \"width\": 1.3}, \"marker\": {\"size\": 12, \"symbol\": \"circle\"}, \"mode\": \"markers\", \"name\": \"last_available_deaths\", \"text\": \"\", \"type\": \"scatter\", \"x\": [\"2020-03-18\", \"2020-03-19\", \"2020-03-20\", \"2020-03-21\", \"2020-03-22\", \"2020-03-23\", \"2020-03-24\", \"2020-03-25\", \"2020-03-26\", \"2020-03-27\", \"2020-03-28\", \"2020-03-29\", \"2020-03-30\", \"2020-03-31\", \"2020-04-01\", \"2020-04-02\", \"2020-04-03\", \"2020-04-04\", \"2020-04-05\", \"2020-04-06\", \"2020-04-07\", \"2020-04-08\", \"2020-04-09\", \"2020-04-10\", \"2020-04-11\", \"2020-04-12\", \"2020-04-13\", \"2020-04-14\", \"2020-04-15\", \"2020-04-16\", \"2020-04-17\", \"2020-04-18\", \"2020-04-19\", \"2020-04-20\", \"2020-04-21\", \"2020-04-22\", \"2020-04-23\", \"2020-04-24\", \"2020-04-25\", \"2020-04-26\", \"2020-04-27\", \"2020-04-28\", \"2020-04-29\", \"2020-04-30\", \"2020-05-01\", \"2020-05-02\", \"2020-05-03\", \"2020-05-04\", \"2020-05-05\", \"2020-05-06\", \"2020-05-07\", \"2020-05-08\", \"2020-05-09\", \"2020-05-10\", \"2020-05-11\", \"2020-05-12\", \"2020-05-13\", \"2020-05-14\", \"2020-05-15\", \"2020-05-16\", \"2020-05-17\", \"2020-05-18\", \"2020-05-19\", \"2020-05-20\", \"2020-05-21\", \"2020-05-22\", \"2020-05-23\", \"2020-05-24\", \"2020-05-25\", \"2020-05-26\", \"2020-05-27\", \"2020-05-28\", \"2020-05-29\", \"2020-05-30\", \"2020-05-31\", \"2020-06-01\", \"2020-06-02\", \"2020-06-03\", \"2020-06-04\", \"2020-06-05\", \"2020-06-06\", \"2020-06-07\", \"2020-06-08\", \"2020-06-09\", \"2020-06-10\", \"2020-06-11\", \"2020-06-12\", \"2020-06-13\", \"2020-06-14\", \"2020-06-15\", \"2020-06-16\", \"2020-06-17\", \"2020-06-18\", \"2020-06-19\", \"2020-06-20\", \"2020-06-21\", \"2020-06-22\", \"2020-06-23\", \"2020-06-24\", \"2020-06-25\", \"2020-06-26\", \"2020-06-27\", \"2020-06-28\", \"2020-06-29\", \"2020-06-30\", \"2020-07-01\", \"2020-07-02\", \"2020-07-03\", \"2020-07-04\", \"2020-07-05\", \"2020-07-06\", \"2020-07-07\", \"2020-07-08\", \"2020-07-09\", \"2020-07-10\", \"2020-07-11\", \"2020-07-12\", \"2020-07-13\", \"2020-07-14\", \"2020-07-15\", \"2020-07-16\", \"2020-07-17\", \"2020-07-18\", \"2020-07-19\", \"2020-07-20\", \"2020-07-21\", \"2020-07-22\", \"2020-07-23\", \"2020-07-24\", \"2020-07-25\", \"2020-07-26\", \"2020-07-27\", \"2020-07-28\", \"2020-07-29\", \"2020-07-30\", \"2020-07-31\", \"2020-08-01\", \"2020-08-02\", \"2020-08-03\", \"2020-08-04\", \"2020-08-05\", \"2020-08-06\", \"2020-08-07\", \"2020-08-08\", \"2020-08-09\", \"2020-08-10\", \"2020-08-11\", \"2020-08-12\", \"2020-08-13\", \"2020-08-14\", \"2020-08-15\", \"2020-08-16\", \"2020-08-17\", \"2020-08-18\", \"2020-08-19\", \"2020-08-20\", \"2020-08-21\", \"2020-08-22\", \"2020-08-23\", \"2020-08-24\", \"2020-08-25\"], \"y\": [0, 0, 0, 0, 0, 0, 0, 0, 0, 0, 0, 0, 0, 0, 0, 0, 0, 0, 0, 0, 0, 0, 1, 1, 1, 1, 1, 2, 3, 3, 3, 3, 3, 3, 3, 3, 5, 5, 5, 5, 5, 10, 10, 10, 11, 11, 11, 11, 14, 14, 14, 15, 16, 16, 16, 17, 18, 18, 19, 20, 20, 20, 27, 28, 29, 30, 30, 30, 30, 30, 30, 32, 33, 35, 35, 35, 36, 39, 42, 45, 45, 45, 45, 50, 54, 55, 56, 56, 56, 56, 61, 64, 67, 69, 72, 72, 72, 81, 82, 86, 86, 87, 87, 87, 92, 94, 97, 101, 105, 105, 105, 111, 113, 115, 116, 116, 116, 116, 121, 126, 131, 135, 141, 141, 141, 153, 156, 165, 172, 182, 184, 184, 186, 192, 195, 200, 204, 204, 204, 215, 221, 226, 230, 232, 232, 232, 256, 262, 271, 274, 276, 281, 281, 291, 295, 298, 305, 309, 309, 309, 309]}],\n",
       "                        {\"legend\": {\"bgcolor\": \"#F5F6F9\", \"font\": {\"color\": \"#4D5663\"}}, \"paper_bgcolor\": \"#F5F6F9\", \"plot_bgcolor\": \"#F5F6F9\", \"template\": {\"data\": {\"bar\": [{\"error_x\": {\"color\": \"#2a3f5f\"}, \"error_y\": {\"color\": \"#2a3f5f\"}, \"marker\": {\"line\": {\"color\": \"#E5ECF6\", \"width\": 0.5}}, \"type\": \"bar\"}], \"barpolar\": [{\"marker\": {\"line\": {\"color\": \"#E5ECF6\", \"width\": 0.5}}, \"type\": \"barpolar\"}], \"carpet\": [{\"aaxis\": {\"endlinecolor\": \"#2a3f5f\", \"gridcolor\": \"white\", \"linecolor\": \"white\", \"minorgridcolor\": \"white\", \"startlinecolor\": \"#2a3f5f\"}, \"baxis\": {\"endlinecolor\": \"#2a3f5f\", \"gridcolor\": \"white\", \"linecolor\": \"white\", \"minorgridcolor\": \"white\", \"startlinecolor\": \"#2a3f5f\"}, \"type\": \"carpet\"}], \"choropleth\": [{\"colorbar\": {\"outlinewidth\": 0, \"ticks\": \"\"}, \"type\": \"choropleth\"}], \"contour\": [{\"colorbar\": {\"outlinewidth\": 0, \"ticks\": \"\"}, \"colorscale\": [[0.0, \"#0d0887\"], [0.1111111111111111, \"#46039f\"], [0.2222222222222222, \"#7201a8\"], [0.3333333333333333, \"#9c179e\"], [0.4444444444444444, \"#bd3786\"], [0.5555555555555556, \"#d8576b\"], [0.6666666666666666, \"#ed7953\"], [0.7777777777777778, \"#fb9f3a\"], [0.8888888888888888, \"#fdca26\"], [1.0, \"#f0f921\"]], \"type\": \"contour\"}], \"contourcarpet\": [{\"colorbar\": {\"outlinewidth\": 0, \"ticks\": \"\"}, \"type\": \"contourcarpet\"}], \"heatmap\": [{\"colorbar\": {\"outlinewidth\": 0, \"ticks\": \"\"}, \"colorscale\": [[0.0, \"#0d0887\"], [0.1111111111111111, \"#46039f\"], [0.2222222222222222, \"#7201a8\"], [0.3333333333333333, \"#9c179e\"], [0.4444444444444444, \"#bd3786\"], [0.5555555555555556, \"#d8576b\"], [0.6666666666666666, \"#ed7953\"], [0.7777777777777778, \"#fb9f3a\"], [0.8888888888888888, \"#fdca26\"], [1.0, \"#f0f921\"]], \"type\": \"heatmap\"}], \"heatmapgl\": [{\"colorbar\": {\"outlinewidth\": 0, \"ticks\": \"\"}, \"colorscale\": [[0.0, \"#0d0887\"], [0.1111111111111111, \"#46039f\"], [0.2222222222222222, \"#7201a8\"], [0.3333333333333333, \"#9c179e\"], [0.4444444444444444, \"#bd3786\"], [0.5555555555555556, \"#d8576b\"], [0.6666666666666666, \"#ed7953\"], [0.7777777777777778, \"#fb9f3a\"], [0.8888888888888888, \"#fdca26\"], [1.0, \"#f0f921\"]], \"type\": \"heatmapgl\"}], \"histogram\": [{\"marker\": {\"colorbar\": {\"outlinewidth\": 0, \"ticks\": \"\"}}, \"type\": \"histogram\"}], \"histogram2d\": [{\"colorbar\": {\"outlinewidth\": 0, \"ticks\": \"\"}, \"colorscale\": [[0.0, \"#0d0887\"], [0.1111111111111111, \"#46039f\"], [0.2222222222222222, \"#7201a8\"], [0.3333333333333333, \"#9c179e\"], [0.4444444444444444, \"#bd3786\"], [0.5555555555555556, \"#d8576b\"], [0.6666666666666666, \"#ed7953\"], [0.7777777777777778, \"#fb9f3a\"], [0.8888888888888888, \"#fdca26\"], [1.0, \"#f0f921\"]], \"type\": \"histogram2d\"}], \"histogram2dcontour\": [{\"colorbar\": {\"outlinewidth\": 0, \"ticks\": \"\"}, \"colorscale\": [[0.0, \"#0d0887\"], [0.1111111111111111, \"#46039f\"], [0.2222222222222222, \"#7201a8\"], [0.3333333333333333, \"#9c179e\"], [0.4444444444444444, \"#bd3786\"], [0.5555555555555556, \"#d8576b\"], [0.6666666666666666, \"#ed7953\"], [0.7777777777777778, \"#fb9f3a\"], [0.8888888888888888, \"#fdca26\"], [1.0, \"#f0f921\"]], \"type\": \"histogram2dcontour\"}], \"mesh3d\": [{\"colorbar\": {\"outlinewidth\": 0, \"ticks\": \"\"}, \"type\": \"mesh3d\"}], \"parcoords\": [{\"line\": {\"colorbar\": {\"outlinewidth\": 0, \"ticks\": \"\"}}, \"type\": \"parcoords\"}], \"pie\": [{\"automargin\": true, \"type\": \"pie\"}], \"scatter\": [{\"marker\": {\"colorbar\": {\"outlinewidth\": 0, \"ticks\": \"\"}}, \"type\": \"scatter\"}], \"scatter3d\": [{\"line\": {\"colorbar\": {\"outlinewidth\": 0, \"ticks\": \"\"}}, \"marker\": {\"colorbar\": {\"outlinewidth\": 0, \"ticks\": \"\"}}, \"type\": \"scatter3d\"}], \"scattercarpet\": [{\"marker\": {\"colorbar\": {\"outlinewidth\": 0, \"ticks\": \"\"}}, \"type\": \"scattercarpet\"}], \"scattergeo\": [{\"marker\": {\"colorbar\": {\"outlinewidth\": 0, \"ticks\": \"\"}}, \"type\": \"scattergeo\"}], \"scattergl\": [{\"marker\": {\"colorbar\": {\"outlinewidth\": 0, \"ticks\": \"\"}}, \"type\": \"scattergl\"}], \"scattermapbox\": [{\"marker\": {\"colorbar\": {\"outlinewidth\": 0, \"ticks\": \"\"}}, \"type\": \"scattermapbox\"}], \"scatterpolar\": [{\"marker\": {\"colorbar\": {\"outlinewidth\": 0, \"ticks\": \"\"}}, \"type\": \"scatterpolar\"}], \"scatterpolargl\": [{\"marker\": {\"colorbar\": {\"outlinewidth\": 0, \"ticks\": \"\"}}, \"type\": \"scatterpolargl\"}], \"scatterternary\": [{\"marker\": {\"colorbar\": {\"outlinewidth\": 0, \"ticks\": \"\"}}, \"type\": \"scatterternary\"}], \"surface\": [{\"colorbar\": {\"outlinewidth\": 0, \"ticks\": \"\"}, \"colorscale\": [[0.0, \"#0d0887\"], [0.1111111111111111, \"#46039f\"], [0.2222222222222222, \"#7201a8\"], [0.3333333333333333, \"#9c179e\"], [0.4444444444444444, \"#bd3786\"], [0.5555555555555556, \"#d8576b\"], [0.6666666666666666, \"#ed7953\"], [0.7777777777777778, \"#fb9f3a\"], [0.8888888888888888, \"#fdca26\"], [1.0, \"#f0f921\"]], \"type\": \"surface\"}], \"table\": [{\"cells\": {\"fill\": {\"color\": \"#EBF0F8\"}, \"line\": {\"color\": \"white\"}}, \"header\": {\"fill\": {\"color\": \"#C8D4E3\"}, \"line\": {\"color\": \"white\"}}, \"type\": \"table\"}]}, \"layout\": {\"annotationdefaults\": {\"arrowcolor\": \"#2a3f5f\", \"arrowhead\": 0, \"arrowwidth\": 1}, \"coloraxis\": {\"colorbar\": {\"outlinewidth\": 0, \"ticks\": \"\"}}, \"colorscale\": {\"diverging\": [[0, \"#8e0152\"], [0.1, \"#c51b7d\"], [0.2, \"#de77ae\"], [0.3, \"#f1b6da\"], [0.4, \"#fde0ef\"], [0.5, \"#f7f7f7\"], [0.6, \"#e6f5d0\"], [0.7, \"#b8e186\"], [0.8, \"#7fbc41\"], [0.9, \"#4d9221\"], [1, \"#276419\"]], \"sequential\": [[0.0, \"#0d0887\"], [0.1111111111111111, \"#46039f\"], [0.2222222222222222, \"#7201a8\"], [0.3333333333333333, \"#9c179e\"], [0.4444444444444444, \"#bd3786\"], [0.5555555555555556, \"#d8576b\"], [0.6666666666666666, \"#ed7953\"], [0.7777777777777778, \"#fb9f3a\"], [0.8888888888888888, \"#fdca26\"], [1.0, \"#f0f921\"]], \"sequentialminus\": [[0.0, \"#0d0887\"], [0.1111111111111111, \"#46039f\"], [0.2222222222222222, \"#7201a8\"], [0.3333333333333333, \"#9c179e\"], [0.4444444444444444, \"#bd3786\"], [0.5555555555555556, \"#d8576b\"], [0.6666666666666666, \"#ed7953\"], [0.7777777777777778, \"#fb9f3a\"], [0.8888888888888888, \"#fdca26\"], [1.0, \"#f0f921\"]]}, \"colorway\": [\"#636efa\", \"#EF553B\", \"#00cc96\", \"#ab63fa\", \"#FFA15A\", \"#19d3f3\", \"#FF6692\", \"#B6E880\", \"#FF97FF\", \"#FECB52\"], \"font\": {\"color\": \"#2a3f5f\"}, \"geo\": {\"bgcolor\": \"white\", \"lakecolor\": \"white\", \"landcolor\": \"#E5ECF6\", \"showlakes\": true, \"showland\": true, \"subunitcolor\": \"white\"}, \"hoverlabel\": {\"align\": \"left\"}, \"hovermode\": \"closest\", \"mapbox\": {\"style\": \"light\"}, \"paper_bgcolor\": \"white\", \"plot_bgcolor\": \"#E5ECF6\", \"polar\": {\"angularaxis\": {\"gridcolor\": \"white\", \"linecolor\": \"white\", \"ticks\": \"\"}, \"bgcolor\": \"#E5ECF6\", \"radialaxis\": {\"gridcolor\": \"white\", \"linecolor\": \"white\", \"ticks\": \"\"}}, \"scene\": {\"xaxis\": {\"backgroundcolor\": \"#E5ECF6\", \"gridcolor\": \"white\", \"gridwidth\": 2, \"linecolor\": \"white\", \"showbackground\": true, \"ticks\": \"\", \"zerolinecolor\": \"white\"}, \"yaxis\": {\"backgroundcolor\": \"#E5ECF6\", \"gridcolor\": \"white\", \"gridwidth\": 2, \"linecolor\": \"white\", \"showbackground\": true, \"ticks\": \"\", \"zerolinecolor\": \"white\"}, \"zaxis\": {\"backgroundcolor\": \"#E5ECF6\", \"gridcolor\": \"white\", \"gridwidth\": 2, \"linecolor\": \"white\", \"showbackground\": true, \"ticks\": \"\", \"zerolinecolor\": \"white\"}}, \"shapedefaults\": {\"line\": {\"color\": \"#2a3f5f\"}}, \"ternary\": {\"aaxis\": {\"gridcolor\": \"white\", \"linecolor\": \"white\", \"ticks\": \"\"}, \"baxis\": {\"gridcolor\": \"white\", \"linecolor\": \"white\", \"ticks\": \"\"}, \"bgcolor\": \"#E5ECF6\", \"caxis\": {\"gridcolor\": \"white\", \"linecolor\": \"white\", \"ticks\": \"\"}}, \"title\": {\"x\": 0.05}, \"xaxis\": {\"automargin\": true, \"gridcolor\": \"white\", \"linecolor\": \"white\", \"ticks\": \"\", \"title\": {\"standoff\": 15}, \"zerolinecolor\": \"white\", \"zerolinewidth\": 2}, \"yaxis\": {\"automargin\": true, \"gridcolor\": \"white\", \"linecolor\": \"white\", \"ticks\": \"\", \"title\": {\"standoff\": 15}, \"zerolinecolor\": \"white\", \"zerolinewidth\": 2}}}, \"title\": {\"font\": {\"color\": \"#4D5663\"}, \"text\": \"\\u00d3bitos na cidade de S\\u00e3o Jos\\u00e9 dos Campos ao longo dos 5 meses da pandemia\"}, \"xaxis\": {\"gridcolor\": \"#E1E5ED\", \"showgrid\": true, \"tickfont\": {\"color\": \"#4D5663\"}, \"title\": {\"font\": {\"color\": \"#4D5663\"}, \"text\": \"\"}, \"zerolinecolor\": \"#E1E5ED\"}, \"yaxis\": {\"gridcolor\": \"#E1E5ED\", \"showgrid\": true, \"tickfont\": {\"color\": \"#4D5663\"}, \"title\": {\"font\": {\"color\": \"#4D5663\"}, \"text\": \"\"}, \"zerolinecolor\": \"#E1E5ED\"}},\n",
       "                        {\"showLink\": true, \"linkText\": \"Export to plot.ly\", \"plotlyServerURL\": \"https://plot.ly\", \"responsive\": true}\n",
       "                    ).then(function(){\n",
       "                            \n",
       "var gd = document.getElementById('87852b48-e215-4760-868e-3da5d59ea6ce');\n",
       "var x = new MutationObserver(function (mutations, observer) {{\n",
       "        var display = window.getComputedStyle(gd).display;\n",
       "        if (!display || display === 'none') {{\n",
       "            console.log([gd, 'removed!']);\n",
       "            Plotly.purge(gd);\n",
       "            observer.disconnect();\n",
       "        }}\n",
       "}});\n",
       "\n",
       "// Listen for the removal of the full notebook cells\n",
       "var notebookContainer = gd.closest('#notebook-container');\n",
       "if (notebookContainer) {{\n",
       "    x.observe(notebookContainer, {childList: true});\n",
       "}}\n",
       "\n",
       "// Listen for the clearing of the current output cell\n",
       "var outputEl = gd.closest('.output');\n",
       "if (outputEl) {{\n",
       "    x.observe(outputEl, {childList: true});\n",
       "}}\n",
       "\n",
       "                        })\n",
       "                };\n",
       "                });\n",
       "            </script>\n",
       "        </div>"
      ]
     },
     "metadata": {},
     "output_type": "display_data"
    }
   ],
   "source": [
    "df_sjc.iplot(kind='scatter', x='date', y='last_available_deaths', title='Óbitos na cidade de São José dos Campos ao longo dos 5 meses da pandemia', color='red', mode='markers')"
   ]
  },
  {
   "cell_type": "code",
   "execution_count": 16,
   "metadata": {},
   "outputs": [
    {
     "data": {
      "text/html": [
       "<div>\n",
       "<style scoped>\n",
       "    .dataframe tbody tr th:only-of-type {\n",
       "        vertical-align: middle;\n",
       "    }\n",
       "\n",
       "    .dataframe tbody tr th {\n",
       "        vertical-align: top;\n",
       "    }\n",
       "\n",
       "    .dataframe thead th {\n",
       "        text-align: right;\n",
       "    }\n",
       "</style>\n",
       "<table border=\"1\" class=\"dataframe\">\n",
       "  <thead>\n",
       "    <tr style=\"text-align: right;\">\n",
       "      <th></th>\n",
       "      <th>author_number_beds</th>\n",
       "      <th>author_number_icu_beds</th>\n",
       "      <th>author_number_ventilators</th>\n",
       "      <th>city_id</th>\n",
       "      <th>city_name</th>\n",
       "      <th>country_iso</th>\n",
       "      <th>country_name</th>\n",
       "      <th>data_last_refreshed</th>\n",
       "      <th>female</th>\n",
       "      <th>female-0-19</th>\n",
       "      <th>...</th>\n",
       "      <th>male-70-79</th>\n",
       "      <th>male-80&gt;</th>\n",
       "      <th>number_beds</th>\n",
       "      <th>number_covid_icu_beds</th>\n",
       "      <th>number_icu_beds</th>\n",
       "      <th>number_ventilators</th>\n",
       "      <th>population</th>\n",
       "      <th>state_id</th>\n",
       "      <th>state_name</th>\n",
       "      <th>state_num_id</th>\n",
       "    </tr>\n",
       "  </thead>\n",
       "  <tbody>\n",
       "    <tr>\n",
       "      <th>0</th>\n",
       "      <td>DataSUS</td>\n",
       "      <td>DataSUS</td>\n",
       "      <td>DataSUS</td>\n",
       "      <td>1200013</td>\n",
       "      <td>Acrelândia</td>\n",
       "      <td>BR</td>\n",
       "      <td>Brasil</td>\n",
       "      <td>2020-08-26 20:05:07</td>\n",
       "      <td>NaN</td>\n",
       "      <td>NaN</td>\n",
       "      <td>...</td>\n",
       "      <td>NaN</td>\n",
       "      <td>NaN</td>\n",
       "      <td>8</td>\n",
       "      <td>0</td>\n",
       "      <td>0</td>\n",
       "      <td>0</td>\n",
       "      <td>15256</td>\n",
       "      <td>AC</td>\n",
       "      <td>Acre</td>\n",
       "      <td>12</td>\n",
       "    </tr>\n",
       "    <tr>\n",
       "      <th>1</th>\n",
       "      <td>DataSUS</td>\n",
       "      <td>DataSUS</td>\n",
       "      <td>DataSUS</td>\n",
       "      <td>1200054</td>\n",
       "      <td>Assis Brasil</td>\n",
       "      <td>BR</td>\n",
       "      <td>Brasil</td>\n",
       "      <td>2020-08-26 20:05:07</td>\n",
       "      <td>NaN</td>\n",
       "      <td>NaN</td>\n",
       "      <td>...</td>\n",
       "      <td>NaN</td>\n",
       "      <td>NaN</td>\n",
       "      <td>7</td>\n",
       "      <td>0</td>\n",
       "      <td>0</td>\n",
       "      <td>0</td>\n",
       "      <td>7417</td>\n",
       "      <td>AC</td>\n",
       "      <td>Acre</td>\n",
       "      <td>12</td>\n",
       "    </tr>\n",
       "    <tr>\n",
       "      <th>2</th>\n",
       "      <td>DataSUS</td>\n",
       "      <td>DataSUS</td>\n",
       "      <td>DataSUS</td>\n",
       "      <td>1200104</td>\n",
       "      <td>Brasiléia</td>\n",
       "      <td>BR</td>\n",
       "      <td>Brasil</td>\n",
       "      <td>2020-08-26 20:05:07</td>\n",
       "      <td>NaN</td>\n",
       "      <td>NaN</td>\n",
       "      <td>...</td>\n",
       "      <td>NaN</td>\n",
       "      <td>NaN</td>\n",
       "      <td>16</td>\n",
       "      <td>14</td>\n",
       "      <td>0</td>\n",
       "      <td>0</td>\n",
       "      <td>26278</td>\n",
       "      <td>AC</td>\n",
       "      <td>Acre</td>\n",
       "      <td>12</td>\n",
       "    </tr>\n",
       "    <tr>\n",
       "      <th>3</th>\n",
       "      <td>DataSUS</td>\n",
       "      <td>DataSUS</td>\n",
       "      <td>DataSUS</td>\n",
       "      <td>1200138</td>\n",
       "      <td>Bujari</td>\n",
       "      <td>BR</td>\n",
       "      <td>Brasil</td>\n",
       "      <td>2020-08-26 20:05:07</td>\n",
       "      <td>NaN</td>\n",
       "      <td>NaN</td>\n",
       "      <td>...</td>\n",
       "      <td>NaN</td>\n",
       "      <td>NaN</td>\n",
       "      <td>0</td>\n",
       "      <td>0</td>\n",
       "      <td>0</td>\n",
       "      <td>0</td>\n",
       "      <td>10266</td>\n",
       "      <td>AC</td>\n",
       "      <td>Acre</td>\n",
       "      <td>12</td>\n",
       "    </tr>\n",
       "    <tr>\n",
       "      <th>4</th>\n",
       "      <td>DataSUS</td>\n",
       "      <td>DataSUS</td>\n",
       "      <td>DataSUS</td>\n",
       "      <td>1200179</td>\n",
       "      <td>Capixaba</td>\n",
       "      <td>BR</td>\n",
       "      <td>Brasil</td>\n",
       "      <td>2020-08-26 20:05:07</td>\n",
       "      <td>NaN</td>\n",
       "      <td>NaN</td>\n",
       "      <td>...</td>\n",
       "      <td>NaN</td>\n",
       "      <td>NaN</td>\n",
       "      <td>0</td>\n",
       "      <td>0</td>\n",
       "      <td>0</td>\n",
       "      <td>0</td>\n",
       "      <td>11733</td>\n",
       "      <td>AC</td>\n",
       "      <td>Acre</td>\n",
       "      <td>12</td>\n",
       "    </tr>\n",
       "  </tbody>\n",
       "</table>\n",
       "<p>5 rows × 40 columns</p>\n",
       "</div>"
      ],
      "text/plain": [
       "  author_number_beds author_number_icu_beds author_number_ventilators  \\\n",
       "0            DataSUS                DataSUS                   DataSUS   \n",
       "1            DataSUS                DataSUS                   DataSUS   \n",
       "2            DataSUS                DataSUS                   DataSUS   \n",
       "3            DataSUS                DataSUS                   DataSUS   \n",
       "4            DataSUS                DataSUS                   DataSUS   \n",
       "\n",
       "   city_id     city_name country_iso country_name  data_last_refreshed  \\\n",
       "0  1200013    Acrelândia          BR       Brasil  2020-08-26 20:05:07   \n",
       "1  1200054  Assis Brasil          BR       Brasil  2020-08-26 20:05:07   \n",
       "2  1200104     Brasiléia          BR       Brasil  2020-08-26 20:05:07   \n",
       "3  1200138        Bujari          BR       Brasil  2020-08-26 20:05:07   \n",
       "4  1200179      Capixaba          BR       Brasil  2020-08-26 20:05:07   \n",
       "\n",
       "   female  female-0-19  ...  male-70-79  male-80>  number_beds  \\\n",
       "0     NaN          NaN  ...         NaN       NaN            8   \n",
       "1     NaN          NaN  ...         NaN       NaN            7   \n",
       "2     NaN          NaN  ...         NaN       NaN           16   \n",
       "3     NaN          NaN  ...         NaN       NaN            0   \n",
       "4     NaN          NaN  ...         NaN       NaN            0   \n",
       "\n",
       "   number_covid_icu_beds  number_icu_beds  number_ventilators  population  \\\n",
       "0                      0                0                   0       15256   \n",
       "1                      0                0                   0        7417   \n",
       "2                     14                0                   0       26278   \n",
       "3                      0                0                   0       10266   \n",
       "4                      0                0                   0       11733   \n",
       "\n",
       "   state_id state_name state_num_id  \n",
       "0        AC       Acre           12  \n",
       "1        AC       Acre           12  \n",
       "2        AC       Acre           12  \n",
       "3        AC       Acre           12  \n",
       "4        AC       Acre           12  \n",
       "\n",
       "[5 rows x 40 columns]"
      ]
     },
     "execution_count": 16,
     "metadata": {},
     "output_type": "execute_result"
    }
   ],
   "source": [
    "cnes.head()"
   ]
  },
  {
   "cell_type": "code",
   "execution_count": null,
   "metadata": {},
   "outputs": [],
   "source": []
  },
  {
   "cell_type": "code",
   "execution_count": 17,
   "metadata": {},
   "outputs": [],
   "source": [
    "cnes_sjc =  cnes[cnes['city_name'] == 'São José dos Campos']"
   ]
  },
  {
   "cell_type": "code",
   "execution_count": 18,
   "metadata": {},
   "outputs": [
    {
     "data": {
      "text/html": [
       "<div>\n",
       "<style scoped>\n",
       "    .dataframe tbody tr th:only-of-type {\n",
       "        vertical-align: middle;\n",
       "    }\n",
       "\n",
       "    .dataframe tbody tr th {\n",
       "        vertical-align: top;\n",
       "    }\n",
       "\n",
       "    .dataframe thead th {\n",
       "        text-align: right;\n",
       "    }\n",
       "</style>\n",
       "<table border=\"1\" class=\"dataframe\">\n",
       "  <thead>\n",
       "    <tr style=\"text-align: right;\">\n",
       "      <th></th>\n",
       "      <th>author_number_beds</th>\n",
       "      <th>author_number_icu_beds</th>\n",
       "      <th>author_number_ventilators</th>\n",
       "      <th>city_id</th>\n",
       "      <th>city_name</th>\n",
       "      <th>country_iso</th>\n",
       "      <th>country_name</th>\n",
       "      <th>data_last_refreshed</th>\n",
       "      <th>female</th>\n",
       "      <th>female-0-19</th>\n",
       "      <th>...</th>\n",
       "      <th>male-70-79</th>\n",
       "      <th>male-80&gt;</th>\n",
       "      <th>number_beds</th>\n",
       "      <th>number_covid_icu_beds</th>\n",
       "      <th>number_icu_beds</th>\n",
       "      <th>number_ventilators</th>\n",
       "      <th>population</th>\n",
       "      <th>state_id</th>\n",
       "      <th>state_name</th>\n",
       "      <th>state_num_id</th>\n",
       "    </tr>\n",
       "  </thead>\n",
       "  <tbody>\n",
       "    <tr>\n",
       "      <th>5343</th>\n",
       "      <td>DataSUS</td>\n",
       "      <td>DataSUS</td>\n",
       "      <td>DataSUS</td>\n",
       "      <td>3549904</td>\n",
       "      <td>São José dos Campos</td>\n",
       "      <td>BR</td>\n",
       "      <td>Brasil</td>\n",
       "      <td>2020-08-26 20:05:07</td>\n",
       "      <td>NaN</td>\n",
       "      <td>NaN</td>\n",
       "      <td>...</td>\n",
       "      <td>NaN</td>\n",
       "      <td>NaN</td>\n",
       "      <td>925</td>\n",
       "      <td>16</td>\n",
       "      <td>190</td>\n",
       "      <td>381</td>\n",
       "      <td>721944</td>\n",
       "      <td>SP</td>\n",
       "      <td>São Paulo</td>\n",
       "      <td>35</td>\n",
       "    </tr>\n",
       "  </tbody>\n",
       "</table>\n",
       "<p>1 rows × 40 columns</p>\n",
       "</div>"
      ],
      "text/plain": [
       "     author_number_beds author_number_icu_beds author_number_ventilators  \\\n",
       "5343            DataSUS                DataSUS                   DataSUS   \n",
       "\n",
       "      city_id            city_name country_iso country_name  \\\n",
       "5343  3549904  São José dos Campos          BR       Brasil   \n",
       "\n",
       "      data_last_refreshed  female  female-0-19  ...  male-70-79  male-80>  \\\n",
       "5343  2020-08-26 20:05:07     NaN          NaN  ...         NaN       NaN   \n",
       "\n",
       "      number_beds  number_covid_icu_beds  number_icu_beds  number_ventilators  \\\n",
       "5343          925                     16              190                 381   \n",
       "\n",
       "      population  state_id state_name state_num_id  \n",
       "5343      721944        SP  São Paulo           35  \n",
       "\n",
       "[1 rows x 40 columns]"
      ]
     },
     "execution_count": 18,
     "metadata": {},
     "output_type": "execute_result"
    }
   ],
   "source": [
    "cnes_sjc"
   ]
  },
  {
   "cell_type": "code",
   "execution_count": 52,
   "metadata": {},
   "outputs": [
    {
     "data": {
      "text/html": [
       "<div>\n",
       "<style scoped>\n",
       "    .dataframe tbody tr th:only-of-type {\n",
       "        vertical-align: middle;\n",
       "    }\n",
       "\n",
       "    .dataframe tbody tr th {\n",
       "        vertical-align: top;\n",
       "    }\n",
       "\n",
       "    .dataframe thead th {\n",
       "        text-align: right;\n",
       "    }\n",
       "</style>\n",
       "<table border=\"1\" class=\"dataframe\">\n",
       "  <thead>\n",
       "    <tr style=\"text-align: right;\">\n",
       "      <th></th>\n",
       "      <th>active_cases</th>\n",
       "      <th>city_id</th>\n",
       "      <th>city_name</th>\n",
       "      <th>city_notification_place_type</th>\n",
       "      <th>city_notification_rate</th>\n",
       "      <th>confirmed_cases</th>\n",
       "      <th>daily_cases</th>\n",
       "      <th>deaths</th>\n",
       "      <th>epidemiological_week</th>\n",
       "      <th>estimated_population_2019</th>\n",
       "      <th>...</th>\n",
       "      <th>new_deaths</th>\n",
       "      <th>notification_rate</th>\n",
       "      <th>order_for_place</th>\n",
       "      <th>place_type</th>\n",
       "      <th>state_id</th>\n",
       "      <th>state_name</th>\n",
       "      <th>state_notification_rate</th>\n",
       "      <th>state_num_id</th>\n",
       "      <th>data_last_refreshed</th>\n",
       "      <th>date</th>\n",
       "    </tr>\n",
       "  </thead>\n",
       "  <tbody>\n",
       "    <tr>\n",
       "      <th>597934</th>\n",
       "      <td>22016.0</td>\n",
       "      <td>5300108</td>\n",
       "      <td>Brasília</td>\n",
       "      <td>city</td>\n",
       "      <td>1.0</td>\n",
       "      <td>129583.0</td>\n",
       "      <td>1434.0</td>\n",
       "      <td>2065.0</td>\n",
       "      <td>34</td>\n",
       "      <td>3015268.0</td>\n",
       "      <td>...</td>\n",
       "      <td>13.0</td>\n",
       "      <td>1.0</td>\n",
       "      <td>169</td>\n",
       "      <td>city</td>\n",
       "      <td>DF</td>\n",
       "      <td>Distrito Federal</td>\n",
       "      <td>1.0</td>\n",
       "      <td>53</td>\n",
       "      <td>2020-08-27 12:10:35</td>\n",
       "      <td>2020-08-25</td>\n",
       "    </tr>\n",
       "    <tr>\n",
       "      <th>597935</th>\n",
       "      <td>22698.0</td>\n",
       "      <td>5300108</td>\n",
       "      <td>Brasília</td>\n",
       "      <td>city</td>\n",
       "      <td>1.0</td>\n",
       "      <td>131253.0</td>\n",
       "      <td>1670.0</td>\n",
       "      <td>2082.0</td>\n",
       "      <td>35</td>\n",
       "      <td>3015268.0</td>\n",
       "      <td>...</td>\n",
       "      <td>17.0</td>\n",
       "      <td>1.0</td>\n",
       "      <td>170</td>\n",
       "      <td>city</td>\n",
       "      <td>DF</td>\n",
       "      <td>Distrito Federal</td>\n",
       "      <td>1.0</td>\n",
       "      <td>53</td>\n",
       "      <td>2020-08-27 12:10:35</td>\n",
       "      <td>2020-08-25</td>\n",
       "    </tr>\n",
       "    <tr>\n",
       "      <th>597936</th>\n",
       "      <td>21218.0</td>\n",
       "      <td>5300108</td>\n",
       "      <td>Brasília</td>\n",
       "      <td>city</td>\n",
       "      <td>1.0</td>\n",
       "      <td>132472.0</td>\n",
       "      <td>1219.0</td>\n",
       "      <td>2122.0</td>\n",
       "      <td>35</td>\n",
       "      <td>3015268.0</td>\n",
       "      <td>...</td>\n",
       "      <td>40.0</td>\n",
       "      <td>1.0</td>\n",
       "      <td>171</td>\n",
       "      <td>city</td>\n",
       "      <td>DF</td>\n",
       "      <td>Distrito Federal</td>\n",
       "      <td>1.0</td>\n",
       "      <td>53</td>\n",
       "      <td>2020-08-27 12:10:35</td>\n",
       "      <td>2020-08-25</td>\n",
       "    </tr>\n",
       "    <tr>\n",
       "      <th>597937</th>\n",
       "      <td>23044.0</td>\n",
       "      <td>5300108</td>\n",
       "      <td>Brasília</td>\n",
       "      <td>city</td>\n",
       "      <td>1.0</td>\n",
       "      <td>135423.0</td>\n",
       "      <td>2951.0</td>\n",
       "      <td>2148.0</td>\n",
       "      <td>35</td>\n",
       "      <td>3015268.0</td>\n",
       "      <td>...</td>\n",
       "      <td>26.0</td>\n",
       "      <td>1.0</td>\n",
       "      <td>172</td>\n",
       "      <td>city</td>\n",
       "      <td>DF</td>\n",
       "      <td>Distrito Federal</td>\n",
       "      <td>1.0</td>\n",
       "      <td>53</td>\n",
       "      <td>2020-08-27 12:10:35</td>\n",
       "      <td>2020-08-25</td>\n",
       "    </tr>\n",
       "    <tr>\n",
       "      <th>597938</th>\n",
       "      <td>21510.0</td>\n",
       "      <td>5300108</td>\n",
       "      <td>Brasília</td>\n",
       "      <td>city</td>\n",
       "      <td>1.0</td>\n",
       "      <td>135423.0</td>\n",
       "      <td>0.0</td>\n",
       "      <td>2148.0</td>\n",
       "      <td>35</td>\n",
       "      <td>3015268.0</td>\n",
       "      <td>...</td>\n",
       "      <td>0.0</td>\n",
       "      <td>1.0</td>\n",
       "      <td>173</td>\n",
       "      <td>city</td>\n",
       "      <td>DF</td>\n",
       "      <td>Distrito Federal</td>\n",
       "      <td>1.0</td>\n",
       "      <td>53</td>\n",
       "      <td>2020-08-27 12:10:35</td>\n",
       "      <td>2020-08-25</td>\n",
       "    </tr>\n",
       "  </tbody>\n",
       "</table>\n",
       "<p>5 rows × 31 columns</p>\n",
       "</div>"
      ],
      "text/plain": [
       "        active_cases  city_id city_name city_notification_place_type  \\\n",
       "597934       22016.0  5300108  Brasília                         city   \n",
       "597935       22698.0  5300108  Brasília                         city   \n",
       "597936       21218.0  5300108  Brasília                         city   \n",
       "597937       23044.0  5300108  Brasília                         city   \n",
       "597938       21510.0  5300108  Brasília                         city   \n",
       "\n",
       "        city_notification_rate  confirmed_cases  daily_cases  deaths  \\\n",
       "597934                     1.0         129583.0       1434.0  2065.0   \n",
       "597935                     1.0         131253.0       1670.0  2082.0   \n",
       "597936                     1.0         132472.0       1219.0  2122.0   \n",
       "597937                     1.0         135423.0       2951.0  2148.0   \n",
       "597938                     1.0         135423.0          0.0  2148.0   \n",
       "\n",
       "        epidemiological_week  estimated_population_2019  ...  new_deaths  \\\n",
       "597934                    34                  3015268.0  ...        13.0   \n",
       "597935                    35                  3015268.0  ...        17.0   \n",
       "597936                    35                  3015268.0  ...        40.0   \n",
       "597937                    35                  3015268.0  ...        26.0   \n",
       "597938                    35                  3015268.0  ...         0.0   \n",
       "\n",
       "       notification_rate order_for_place  place_type  state_id  \\\n",
       "597934               1.0             169        city        DF   \n",
       "597935               1.0             170        city        DF   \n",
       "597936               1.0             171        city        DF   \n",
       "597937               1.0             172        city        DF   \n",
       "597938               1.0             173        city        DF   \n",
       "\n",
       "              state_name  state_notification_rate  state_num_id  \\\n",
       "597934  Distrito Federal                      1.0            53   \n",
       "597935  Distrito Federal                      1.0            53   \n",
       "597936  Distrito Federal                      1.0            53   \n",
       "597937  Distrito Federal                      1.0            53   \n",
       "597938  Distrito Federal                      1.0            53   \n",
       "\n",
       "        data_last_refreshed       date  \n",
       "597934  2020-08-27 12:10:35 2020-08-25  \n",
       "597935  2020-08-27 12:10:35 2020-08-25  \n",
       "597936  2020-08-27 12:10:35 2020-08-25  \n",
       "597937  2020-08-27 12:10:35 2020-08-25  \n",
       "597938  2020-08-27 12:10:35 2020-08-25  \n",
       "\n",
       "[5 rows x 31 columns]"
      ]
     },
     "execution_count": 52,
     "metadata": {},
     "output_type": "execute_result"
    }
   ],
   "source": [
    "impulso.tail()"
   ]
  },
  {
   "cell_type": "code",
   "execution_count": 49,
   "metadata": {},
   "outputs": [
    {
     "data": {
      "text/plain": [
       "Index(['active_cases', 'city_id', 'city_name', 'city_notification_place_type',\n",
       "       'city_notification_rate', 'confirmed_cases', 'daily_cases', 'deaths',\n",
       "       'epidemiological_week', 'estimated_population_2019', 'health_region_id',\n",
       "       'health_region_name', 'health_region_notification_place_type',\n",
       "       'health_region_notification_rate', 'infectious_period_cases', 'is_last',\n",
       "       'is_repeated', 'last_available_confirmed_per_100k_inhabitants',\n",
       "       'last_available_date', 'last_available_death_rate', 'last_updated',\n",
       "       'new_deaths', 'notification_rate', 'order_for_place', 'place_type',\n",
       "       'state_id', 'state_name', 'state_notification_rate', 'state_num_id',\n",
       "       'data_last_refreshed', 'date'],\n",
       "      dtype='object')"
      ]
     },
     "execution_count": 49,
     "metadata": {},
     "output_type": "execute_result"
    }
   ],
   "source": [
    "impulso.columns"
   ]
  },
  {
   "cell_type": "code",
   "execution_count": 33,
   "metadata": {},
   "outputs": [
    {
     "data": {
      "text/plain": [
       "Index(['city', 'city_ibge_code', 'date', 'epidemiological_week',\n",
       "       'estimated_population_2019', 'is_last', 'is_repeated',\n",
       "       'last_available_confirmed',\n",
       "       'last_available_confirmed_per_100k_inhabitants', 'last_available_date',\n",
       "       'last_available_death_rate', 'last_available_deaths', 'order_for_place',\n",
       "       'place_type', 'state', 'new_confirmed', 'new_deaths'],\n",
       "      dtype='object')"
      ]
     },
     "execution_count": 33,
     "metadata": {},
     "output_type": "execute_result"
    }
   ],
   "source": [
    "total.columns"
   ]
  },
  {
   "cell_type": "code",
   "execution_count": 51,
   "metadata": {},
   "outputs": [],
   "source": [
    "impulso_sjc =  impulso[impulso['city_name'] == 'São José dos Campos']"
   ]
  },
  {
   "cell_type": "code",
   "execution_count": 48,
   "metadata": {},
   "outputs": [
    {
     "data": {
      "text/plain": [
       "<bound method DataFrame.info of         active_cases  city_id            city_name  \\\n",
       "421485           1.0  3549904  São José dos Campos   \n",
       "421486           1.0  3549904  São José dos Campos   \n",
       "421487           1.0  3549904  São José dos Campos   \n",
       "421488           1.0  3549904  São José dos Campos   \n",
       "421489           1.0  3549904  São José dos Campos   \n",
       "...              ...      ...                  ...   \n",
       "421642        4004.0  3549904  São José dos Campos   \n",
       "421643        4050.0  3549904  São José dos Campos   \n",
       "421644        4083.0  3549904  São José dos Campos   \n",
       "421645        4044.0  3549904  São José dos Campos   \n",
       "421646        4136.0  3549904  São José dos Campos   \n",
       "\n",
       "       city_notification_place_type  city_notification_rate  confirmed_cases  \\\n",
       "421485                          NaN                     NaN              1.0   \n",
       "421486                          NaN                     NaN              1.0   \n",
       "421487                          NaN                     NaN              1.0   \n",
       "421488                          NaN                     NaN              1.0   \n",
       "421489                          NaN                     NaN              1.0   \n",
       "...                             ...                     ...              ...   \n",
       "421642                         city                0.728800          11424.0   \n",
       "421643                         city                0.733088          11646.0   \n",
       "421644                         city                0.736873          11695.0   \n",
       "421645                         city                0.740126          11884.0   \n",
       "421646                         city                0.744234          12187.0   \n",
       "\n",
       "        daily_cases  deaths  epidemiological_week  estimated_population_2019  \\\n",
       "421485          1.0     0.0                    12                   721944.0   \n",
       "421486          0.0     0.0                    12                   721944.0   \n",
       "421487          0.0     0.0                    12                   721944.0   \n",
       "421488          0.0     0.0                    12                   721944.0   \n",
       "421489          0.0     0.0                    13                   721944.0   \n",
       "...             ...     ...                   ...                        ...   \n",
       "421642        257.0   309.0                    34                   721944.0   \n",
       "421643        222.0   309.0                    35                   721944.0   \n",
       "421644         49.0   309.0                    35                   721944.0   \n",
       "421645        189.0   321.0                    35                   721944.0   \n",
       "421646        303.0   324.0                    35                   721944.0   \n",
       "\n",
       "        ...  new_deaths notification_rate order_for_place  place_type  \\\n",
       "421485  ...         0.0               NaN               1        city   \n",
       "421486  ...         0.0               NaN               2        city   \n",
       "421487  ...         0.0               NaN               3        city   \n",
       "421488  ...         0.0               NaN               4        city   \n",
       "421489  ...         0.0               NaN               5        city   \n",
       "...     ...         ...               ...             ...         ...   \n",
       "421642  ...         4.0          0.728800             158        city   \n",
       "421643  ...         0.0          0.733088             159        city   \n",
       "421644  ...         0.0          0.736873             160        city   \n",
       "421645  ...        12.0          0.740126             161        city   \n",
       "421646  ...         3.0          0.744234             162        city   \n",
       "\n",
       "        state_id  state_name  state_notification_rate  state_num_id  \\\n",
       "421485        SP   São Paulo                      NaN            35   \n",
       "421486        SP   São Paulo                      NaN            35   \n",
       "421487        SP   São Paulo                      NaN            35   \n",
       "421488        SP   São Paulo                      NaN            35   \n",
       "421489        SP   São Paulo                      NaN            35   \n",
       "...          ...         ...                      ...           ...   \n",
       "421642        SP   São Paulo                 0.522993            35   \n",
       "421643        SP   São Paulo                 0.524254            35   \n",
       "421644        SP   São Paulo                 0.525443            35   \n",
       "421645        SP   São Paulo                 0.526683            35   \n",
       "421646        SP   São Paulo                 0.527941            35   \n",
       "\n",
       "        data_last_refreshed       date  \n",
       "421485  2020-08-27 12:10:35 2020-07-24  \n",
       "421486  2020-08-27 12:10:35 2020-07-24  \n",
       "421487  2020-08-27 12:10:35 2020-07-24  \n",
       "421488  2020-08-27 12:10:35 2020-07-24  \n",
       "421489  2020-08-27 12:10:35 2020-07-24  \n",
       "...                     ...        ...  \n",
       "421642  2020-08-27 12:10:35 2020-07-24  \n",
       "421643  2020-08-27 12:10:35 2020-07-24  \n",
       "421644  2020-08-27 12:10:35 2020-07-24  \n",
       "421645  2020-08-27 12:10:35 2020-07-24  \n",
       "421646  2020-08-27 12:10:35 2020-07-24  \n",
       "\n",
       "[162 rows x 31 columns]>"
      ]
     },
     "execution_count": 48,
     "metadata": {},
     "output_type": "execute_result"
    }
   ],
   "source": [
    "impulso_sjc.info"
   ]
  },
  {
   "cell_type": "code",
   "execution_count": 32,
   "metadata": {},
   "outputs": [],
   "source": [
    "impulso['date'] = pd.to_datetime(total.date)"
   ]
  },
  {
   "cell_type": "code",
   "execution_count": 50,
   "metadata": {},
   "outputs": [
    {
     "data": {
      "text/html": [
       "<div>\n",
       "<style scoped>\n",
       "    .dataframe tbody tr th:only-of-type {\n",
       "        vertical-align: middle;\n",
       "    }\n",
       "\n",
       "    .dataframe tbody tr th {\n",
       "        vertical-align: top;\n",
       "    }\n",
       "\n",
       "    .dataframe thead th {\n",
       "        text-align: right;\n",
       "    }\n",
       "</style>\n",
       "<table border=\"1\" class=\"dataframe\">\n",
       "  <thead>\n",
       "    <tr style=\"text-align: right;\">\n",
       "      <th></th>\n",
       "      <th>active_cases</th>\n",
       "      <th>city_id</th>\n",
       "      <th>city_name</th>\n",
       "      <th>city_notification_place_type</th>\n",
       "      <th>city_notification_rate</th>\n",
       "      <th>confirmed_cases</th>\n",
       "      <th>daily_cases</th>\n",
       "      <th>deaths</th>\n",
       "      <th>epidemiological_week</th>\n",
       "      <th>estimated_population_2019</th>\n",
       "      <th>...</th>\n",
       "      <th>last_updated</th>\n",
       "      <th>new_deaths</th>\n",
       "      <th>notification_rate</th>\n",
       "      <th>order_for_place</th>\n",
       "      <th>place_type</th>\n",
       "      <th>state_id</th>\n",
       "      <th>state_name</th>\n",
       "      <th>state_notification_rate</th>\n",
       "      <th>state_num_id</th>\n",
       "      <th>data_last_refreshed</th>\n",
       "    </tr>\n",
       "  </thead>\n",
       "  <tbody>\n",
       "    <tr>\n",
       "      <th>0</th>\n",
       "      <td>11.0</td>\n",
       "      <td>1100015</td>\n",
       "      <td>Alta Floresta D'Oeste</td>\n",
       "      <td>health_region</td>\n",
       "      <td>NaN</td>\n",
       "      <td>1.0</td>\n",
       "      <td>1.0</td>\n",
       "      <td>0.0</td>\n",
       "      <td>18</td>\n",
       "      <td>22945.0</td>\n",
       "      <td>...</td>\n",
       "      <td>2020-05-02</td>\n",
       "      <td>0.0</td>\n",
       "      <td>0.091429</td>\n",
       "      <td>1</td>\n",
       "      <td>city</td>\n",
       "      <td>RO</td>\n",
       "      <td>Rondônia</td>\n",
       "      <td>0.715641</td>\n",
       "      <td>11</td>\n",
       "      <td>2020-08-27 12:10:35</td>\n",
       "    </tr>\n",
       "    <tr>\n",
       "      <th>1</th>\n",
       "      <td>10.0</td>\n",
       "      <td>1100015</td>\n",
       "      <td>Alta Floresta D'Oeste</td>\n",
       "      <td>health_region</td>\n",
       "      <td>NaN</td>\n",
       "      <td>1.0</td>\n",
       "      <td>0.0</td>\n",
       "      <td>0.0</td>\n",
       "      <td>19</td>\n",
       "      <td>22945.0</td>\n",
       "      <td>...</td>\n",
       "      <td>2020-05-03</td>\n",
       "      <td>0.0</td>\n",
       "      <td>0.097143</td>\n",
       "      <td>2</td>\n",
       "      <td>city</td>\n",
       "      <td>RO</td>\n",
       "      <td>Rondônia</td>\n",
       "      <td>0.684133</td>\n",
       "      <td>11</td>\n",
       "      <td>2020-08-27 12:10:35</td>\n",
       "    </tr>\n",
       "    <tr>\n",
       "      <th>2</th>\n",
       "      <td>9.0</td>\n",
       "      <td>1100015</td>\n",
       "      <td>Alta Floresta D'Oeste</td>\n",
       "      <td>health_region</td>\n",
       "      <td>NaN</td>\n",
       "      <td>1.0</td>\n",
       "      <td>0.0</td>\n",
       "      <td>0.0</td>\n",
       "      <td>19</td>\n",
       "      <td>22945.0</td>\n",
       "      <td>...</td>\n",
       "      <td>2020-05-04</td>\n",
       "      <td>0.0</td>\n",
       "      <td>0.108571</td>\n",
       "      <td>3</td>\n",
       "      <td>city</td>\n",
       "      <td>RO</td>\n",
       "      <td>Rondônia</td>\n",
       "      <td>0.645771</td>\n",
       "      <td>11</td>\n",
       "      <td>2020-08-27 12:10:35</td>\n",
       "    </tr>\n",
       "    <tr>\n",
       "      <th>3</th>\n",
       "      <td>8.0</td>\n",
       "      <td>1100015</td>\n",
       "      <td>Alta Floresta D'Oeste</td>\n",
       "      <td>health_region</td>\n",
       "      <td>NaN</td>\n",
       "      <td>1.0</td>\n",
       "      <td>0.0</td>\n",
       "      <td>0.0</td>\n",
       "      <td>19</td>\n",
       "      <td>22945.0</td>\n",
       "      <td>...</td>\n",
       "      <td>2020-05-05</td>\n",
       "      <td>0.0</td>\n",
       "      <td>0.131429</td>\n",
       "      <td>4</td>\n",
       "      <td>city</td>\n",
       "      <td>RO</td>\n",
       "      <td>Rondônia</td>\n",
       "      <td>0.612698</td>\n",
       "      <td>11</td>\n",
       "      <td>2020-08-27 12:10:35</td>\n",
       "    </tr>\n",
       "    <tr>\n",
       "      <th>4</th>\n",
       "      <td>6.0</td>\n",
       "      <td>1100015</td>\n",
       "      <td>Alta Floresta D'Oeste</td>\n",
       "      <td>health_region</td>\n",
       "      <td>NaN</td>\n",
       "      <td>1.0</td>\n",
       "      <td>0.0</td>\n",
       "      <td>0.0</td>\n",
       "      <td>19</td>\n",
       "      <td>22945.0</td>\n",
       "      <td>...</td>\n",
       "      <td>2020-05-06</td>\n",
       "      <td>0.0</td>\n",
       "      <td>0.162857</td>\n",
       "      <td>5</td>\n",
       "      <td>city</td>\n",
       "      <td>RO</td>\n",
       "      <td>Rondônia</td>\n",
       "      <td>0.605975</td>\n",
       "      <td>11</td>\n",
       "      <td>2020-08-27 12:10:35</td>\n",
       "    </tr>\n",
       "    <tr>\n",
       "      <th>...</th>\n",
       "      <td>...</td>\n",
       "      <td>...</td>\n",
       "      <td>...</td>\n",
       "      <td>...</td>\n",
       "      <td>...</td>\n",
       "      <td>...</td>\n",
       "      <td>...</td>\n",
       "      <td>...</td>\n",
       "      <td>...</td>\n",
       "      <td>...</td>\n",
       "      <td>...</td>\n",
       "      <td>...</td>\n",
       "      <td>...</td>\n",
       "      <td>...</td>\n",
       "      <td>...</td>\n",
       "      <td>...</td>\n",
       "      <td>...</td>\n",
       "      <td>...</td>\n",
       "      <td>...</td>\n",
       "      <td>...</td>\n",
       "      <td>...</td>\n",
       "    </tr>\n",
       "    <tr>\n",
       "      <th>597934</th>\n",
       "      <td>22016.0</td>\n",
       "      <td>5300108</td>\n",
       "      <td>Brasília</td>\n",
       "      <td>city</td>\n",
       "      <td>1.0</td>\n",
       "      <td>129583.0</td>\n",
       "      <td>1434.0</td>\n",
       "      <td>2065.0</td>\n",
       "      <td>34</td>\n",
       "      <td>3015268.0</td>\n",
       "      <td>...</td>\n",
       "      <td>2020-08-22</td>\n",
       "      <td>13.0</td>\n",
       "      <td>1.000000</td>\n",
       "      <td>169</td>\n",
       "      <td>city</td>\n",
       "      <td>DF</td>\n",
       "      <td>Distrito Federal</td>\n",
       "      <td>1.000000</td>\n",
       "      <td>53</td>\n",
       "      <td>2020-08-27 12:10:35</td>\n",
       "    </tr>\n",
       "    <tr>\n",
       "      <th>597935</th>\n",
       "      <td>22698.0</td>\n",
       "      <td>5300108</td>\n",
       "      <td>Brasília</td>\n",
       "      <td>city</td>\n",
       "      <td>1.0</td>\n",
       "      <td>131253.0</td>\n",
       "      <td>1670.0</td>\n",
       "      <td>2082.0</td>\n",
       "      <td>35</td>\n",
       "      <td>3015268.0</td>\n",
       "      <td>...</td>\n",
       "      <td>2020-08-23</td>\n",
       "      <td>17.0</td>\n",
       "      <td>1.000000</td>\n",
       "      <td>170</td>\n",
       "      <td>city</td>\n",
       "      <td>DF</td>\n",
       "      <td>Distrito Federal</td>\n",
       "      <td>1.000000</td>\n",
       "      <td>53</td>\n",
       "      <td>2020-08-27 12:10:35</td>\n",
       "    </tr>\n",
       "    <tr>\n",
       "      <th>597936</th>\n",
       "      <td>21218.0</td>\n",
       "      <td>5300108</td>\n",
       "      <td>Brasília</td>\n",
       "      <td>city</td>\n",
       "      <td>1.0</td>\n",
       "      <td>132472.0</td>\n",
       "      <td>1219.0</td>\n",
       "      <td>2122.0</td>\n",
       "      <td>35</td>\n",
       "      <td>3015268.0</td>\n",
       "      <td>...</td>\n",
       "      <td>2020-08-24</td>\n",
       "      <td>40.0</td>\n",
       "      <td>1.000000</td>\n",
       "      <td>171</td>\n",
       "      <td>city</td>\n",
       "      <td>DF</td>\n",
       "      <td>Distrito Federal</td>\n",
       "      <td>1.000000</td>\n",
       "      <td>53</td>\n",
       "      <td>2020-08-27 12:10:35</td>\n",
       "    </tr>\n",
       "    <tr>\n",
       "      <th>597937</th>\n",
       "      <td>23044.0</td>\n",
       "      <td>5300108</td>\n",
       "      <td>Brasília</td>\n",
       "      <td>city</td>\n",
       "      <td>1.0</td>\n",
       "      <td>135423.0</td>\n",
       "      <td>2951.0</td>\n",
       "      <td>2148.0</td>\n",
       "      <td>35</td>\n",
       "      <td>3015268.0</td>\n",
       "      <td>...</td>\n",
       "      <td>2020-08-25</td>\n",
       "      <td>26.0</td>\n",
       "      <td>1.000000</td>\n",
       "      <td>172</td>\n",
       "      <td>city</td>\n",
       "      <td>DF</td>\n",
       "      <td>Distrito Federal</td>\n",
       "      <td>1.000000</td>\n",
       "      <td>53</td>\n",
       "      <td>2020-08-27 12:10:35</td>\n",
       "    </tr>\n",
       "    <tr>\n",
       "      <th>597938</th>\n",
       "      <td>21510.0</td>\n",
       "      <td>5300108</td>\n",
       "      <td>Brasília</td>\n",
       "      <td>city</td>\n",
       "      <td>1.0</td>\n",
       "      <td>135423.0</td>\n",
       "      <td>0.0</td>\n",
       "      <td>2148.0</td>\n",
       "      <td>35</td>\n",
       "      <td>3015268.0</td>\n",
       "      <td>...</td>\n",
       "      <td>2020-08-26</td>\n",
       "      <td>0.0</td>\n",
       "      <td>1.000000</td>\n",
       "      <td>173</td>\n",
       "      <td>city</td>\n",
       "      <td>DF</td>\n",
       "      <td>Distrito Federal</td>\n",
       "      <td>1.000000</td>\n",
       "      <td>53</td>\n",
       "      <td>2020-08-27 12:10:35</td>\n",
       "    </tr>\n",
       "  </tbody>\n",
       "</table>\n",
       "<p>597939 rows × 30 columns</p>\n",
       "</div>"
      ],
      "text/plain": [
       "        active_cases  city_id              city_name  \\\n",
       "0               11.0  1100015  Alta Floresta D'Oeste   \n",
       "1               10.0  1100015  Alta Floresta D'Oeste   \n",
       "2                9.0  1100015  Alta Floresta D'Oeste   \n",
       "3                8.0  1100015  Alta Floresta D'Oeste   \n",
       "4                6.0  1100015  Alta Floresta D'Oeste   \n",
       "...              ...      ...                    ...   \n",
       "597934       22016.0  5300108               Brasília   \n",
       "597935       22698.0  5300108               Brasília   \n",
       "597936       21218.0  5300108               Brasília   \n",
       "597937       23044.0  5300108               Brasília   \n",
       "597938       21510.0  5300108               Brasília   \n",
       "\n",
       "       city_notification_place_type  city_notification_rate  confirmed_cases  \\\n",
       "0                     health_region                     NaN              1.0   \n",
       "1                     health_region                     NaN              1.0   \n",
       "2                     health_region                     NaN              1.0   \n",
       "3                     health_region                     NaN              1.0   \n",
       "4                     health_region                     NaN              1.0   \n",
       "...                             ...                     ...              ...   \n",
       "597934                         city                     1.0         129583.0   \n",
       "597935                         city                     1.0         131253.0   \n",
       "597936                         city                     1.0         132472.0   \n",
       "597937                         city                     1.0         135423.0   \n",
       "597938                         city                     1.0         135423.0   \n",
       "\n",
       "        daily_cases  deaths  epidemiological_week  estimated_population_2019  \\\n",
       "0               1.0     0.0                    18                    22945.0   \n",
       "1               0.0     0.0                    19                    22945.0   \n",
       "2               0.0     0.0                    19                    22945.0   \n",
       "3               0.0     0.0                    19                    22945.0   \n",
       "4               0.0     0.0                    19                    22945.0   \n",
       "...             ...     ...                   ...                        ...   \n",
       "597934       1434.0  2065.0                    34                  3015268.0   \n",
       "597935       1670.0  2082.0                    35                  3015268.0   \n",
       "597936       1219.0  2122.0                    35                  3015268.0   \n",
       "597937       2951.0  2148.0                    35                  3015268.0   \n",
       "597938          0.0  2148.0                    35                  3015268.0   \n",
       "\n",
       "        ...  last_updated new_deaths notification_rate  order_for_place  \\\n",
       "0       ...    2020-05-02        0.0          0.091429                1   \n",
       "1       ...    2020-05-03        0.0          0.097143                2   \n",
       "2       ...    2020-05-04        0.0          0.108571                3   \n",
       "3       ...    2020-05-05        0.0          0.131429                4   \n",
       "4       ...    2020-05-06        0.0          0.162857                5   \n",
       "...     ...           ...        ...               ...              ...   \n",
       "597934  ...    2020-08-22       13.0          1.000000              169   \n",
       "597935  ...    2020-08-23       17.0          1.000000              170   \n",
       "597936  ...    2020-08-24       40.0          1.000000              171   \n",
       "597937  ...    2020-08-25       26.0          1.000000              172   \n",
       "597938  ...    2020-08-26        0.0          1.000000              173   \n",
       "\n",
       "        place_type  state_id        state_name  state_notification_rate  \\\n",
       "0             city        RO          Rondônia                 0.715641   \n",
       "1             city        RO          Rondônia                 0.684133   \n",
       "2             city        RO          Rondônia                 0.645771   \n",
       "3             city        RO          Rondônia                 0.612698   \n",
       "4             city        RO          Rondônia                 0.605975   \n",
       "...            ...       ...               ...                      ...   \n",
       "597934        city        DF  Distrito Federal                 1.000000   \n",
       "597935        city        DF  Distrito Federal                 1.000000   \n",
       "597936        city        DF  Distrito Federal                 1.000000   \n",
       "597937        city        DF  Distrito Federal                 1.000000   \n",
       "597938        city        DF  Distrito Federal                 1.000000   \n",
       "\n",
       "       state_num_id  data_last_refreshed  \n",
       "0                11  2020-08-27 12:10:35  \n",
       "1                11  2020-08-27 12:10:35  \n",
       "2                11  2020-08-27 12:10:35  \n",
       "3                11  2020-08-27 12:10:35  \n",
       "4                11  2020-08-27 12:10:35  \n",
       "...             ...                  ...  \n",
       "597934           53  2020-08-27 12:10:35  \n",
       "597935           53  2020-08-27 12:10:35  \n",
       "597936           53  2020-08-27 12:10:35  \n",
       "597937           53  2020-08-27 12:10:35  \n",
       "597938           53  2020-08-27 12:10:35  \n",
       "\n",
       "[597939 rows x 30 columns]"
      ]
     },
     "execution_count": 50,
     "metadata": {},
     "output_type": "execute_result"
    }
   ],
   "source": [
    "impulso.drop(columns=['date'])"
   ]
  },
  {
   "cell_type": "code",
   "execution_count": null,
   "metadata": {},
   "outputs": [],
   "source": []
  }
 ],
 "metadata": {
  "kernelspec": {
   "display_name": "Python 3",
   "language": "python",
   "name": "python3"
  },
  "language_info": {
   "codemirror_mode": {
    "name": "ipython",
    "version": 3
   },
   "file_extension": ".py",
   "mimetype": "text/x-python",
   "name": "python",
   "nbconvert_exporter": "python",
   "pygments_lexer": "ipython3",
   "version": "3.6.12"
  }
 },
 "nbformat": 4,
 "nbformat_minor": 4
}
